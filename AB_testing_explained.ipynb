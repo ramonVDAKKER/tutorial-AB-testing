{
 "cells": [
  {
   "cell_type": "markdown",
   "metadata": {},
   "source": [
    "# Inside the black box of A/B testing"
   ]
  },
  {
   "cell_type": "markdown",
   "metadata": {},
   "source": [
    "# 0. Imports"
   ]
  },
  {
   "cell_type": "code",
   "execution_count": null,
   "metadata": {},
   "outputs": [],
   "source": [
    "import numpy as np\n",
    "from scipy.stats import bernoulli, norm, binom\n",
    "import matplotlib.pyplot as plt\n",
    "import seaborn as sns\n",
    "from scipy import stats\n",
    "from PIL import Image\n",
    "import imageio\n",
    "#import math"
   ]
  },
  {
   "cell_type": "markdown",
   "metadata": {},
   "source": [
    "# 1. Distribution under the null hypothesis"
   ]
  },
  {
   "cell_type": "code",
   "execution_count": 261,
   "metadata": {},
   "outputs": [],
   "source": [
    "alpha = 0.05 # significance level\n",
    "num_replications = 100000 # no. of Monte Carlo replications to be used"
   ]
  },
  {
   "cell_type": "markdown",
   "metadata": {},
   "source": [
    "The following function calculates the test statistics."
   ]
  },
  {
   "cell_type": "code",
   "execution_count": 3,
   "metadata": {},
   "outputs": [],
   "source": [
    "def t_test(num_heads_A: int, n_A: int, num_heads_B: int, n_B: int, alpha: float=.05) -> (float, bool):\n",
    "    \"\"\"\"On basis of the number of heads in X_1,...,X_{n_A} and Y_1,...,Y_{n_B}\n",
    "    and the significance level alpa, this function determines the realization of the\n",
    "    t-test (t) and the outcome (phi) of the test.\"\"\"\n",
    "    hat_p_A = num_heads_A / n_A\n",
    "    hat_p_B = num_heads_B / n_B\n",
    "    if max(hat_p_A, hat_p_B) < 1 and min(hat_p_A, hat_p_B) > 0:\n",
    "        t = (hat_p_B - hat_p_A) / np.sqrt(hat_p_A * (1 - hat_p_A) / n_A + hat_p_B * (1 - hat_p_B) / n_B)\n",
    "    elif ((hat_p_A == 0) and (hat_p_B == 0)) or ((hat_p_A == 1) and (hat_p_B == 1)):\n",
    "        t = 0\n",
    "    elif hat_p_B == 1 and hat_p_A == 0: \n",
    "        t = np.inf\n",
    "    elif hat_p_A == 1 and hat_p_B == 0:\n",
    "        t = - np.inf\n",
    "    else:\n",
    "        t = 0\n",
    "    phi = (t >= norm.ppf(1 - alpha))\n",
    "    return t, phi"
   ]
  },
  {
   "cell_type": "code",
   "execution_count": 245,
   "metadata": {},
   "outputs": [
    {
     "data": {
      "text/plain": [
       "(6.192884828895332, True)"
      ]
     },
     "execution_count": 245,
     "metadata": {},
     "output_type": "execute_result"
    }
   ],
   "source": [
    "# Example:\n",
    "t_test(10, 50, 30, 40, alpha)"
   ]
  },
  {
   "cell_type": "markdown",
   "metadata": {},
   "source": [
    "The following function can be used to simulate datasets and the corresponding realizations of the test statistics. This will be used for the Monte Carlo illustrations."
   ]
  },
  {
   "cell_type": "code",
   "execution_count": 279,
   "metadata": {},
   "outputs": [],
   "source": [
    "def simulate_distribution(p_A: float, n_A: int, p_B: float, n_B: int, alpha: float, num_replications: int):\n",
    "    \"\"\"This function simulaties \\sum_{i=1}^{n_A} X_i and \\sum_{i=1}^{n_B} Y_i using i.i.d. draws from a Bernoulli(p_A) \n",
    "    and Bernoulli(p_B) distribution respectively and calculates the outcome of the test. This process is repeated \n",
    "    num_replications times and alpha is used as significance level.\"\"\"\n",
    "    no_heads_A = binom.rvs(n_A, p_A, loc=0, size=num_replications) \n",
    "    no_heads_B = binom.rvs(n_B, p_B, loc=0, size=num_replications)\n",
    "    vectorized_t_test = np.vectorize(t_test)\n",
    "    t, phi = vectorized_t_test(no_heads_A, n_A, no_heads_B, n_B, alpha)\n",
    "    return t, phi"
   ]
  },
  {
   "cell_type": "code",
   "execution_count": 252,
   "metadata": {},
   "outputs": [
    {
     "data": {
      "text/plain": [
       "(array([-0.32127391,  2.08241782,  2.33398175,  1.83998134,  1.32501674,\n",
       "        -0.15020762,  0.85857867,  1.06638129, -0.76299831,  2.0773648 ]),\n",
       " array([False,  True,  True,  True, False, False, False, False, False,\n",
       "         True]))"
      ]
     },
     "execution_count": 252,
     "metadata": {},
     "output_type": "execute_result"
    }
   ],
   "source": [
    "# Example:\n",
    "simulate_distribution_phat(.2, 50, .3, 40, alpha, 10)"
   ]
  },
  {
   "cell_type": "code",
   "execution_count": 265,
   "metadata": {},
   "outputs": [],
   "source": [
    "def figure_to_image(fig):\n",
    "    \"\"\"Auxiliary function that converts Matplot figure to image\"\"\"\n",
    "    fig.canvas.draw ( )\n",
    "    w, h = fig.canvas.get_width_height()\n",
    "    buffer = np.fromstring(fig.canvas.tostring_argb(), dtype=np.uint8)\n",
    "    buffer.shape = (w, h, 4)\n",
    "    buffer = np.roll(buffer, 3, axis=2)\n",
    "    w, h, d = buffer.shape\n",
    "    return Image.frombuffer(\"RGBA\", (w, h), buffer.tostring())   "
   ]
  },
  {
   "cell_type": "code",
   "execution_count": 76,
   "metadata": {},
   "outputs": [],
   "source": [
    "#from matplotlib.backends.backend_agg import FigureCanvasAgg\n",
    "#from matplotlib.figure import Figure"
   ]
  },
  {
   "cell_type": "code",
   "execution_count": 277,
   "metadata": {},
   "outputs": [],
   "source": [
    "def null_distribution(n_A: int, n_B: int, p_A: float, alpha: float, num_replications: int):\n",
    "    \n",
    "    p_B = p_A\n",
    "    t, phi = simulate_distribution(p_A, n_A, p_B, n_B, alpha, num_replications)\n",
    "    print(f\"The power is {np.mean(phi)}.\")\n",
    "    fig, ax = plt.subplots(1, 1, constrained_layout=True)\n",
    "    ax.set_title(f\"\"\"Distribution of $t$, on basis of {num_replications} Monte Carlo replications and\n",
    "    for $n_A=n_B$={n_A} and $p_A=p_B=${p_A} versus the N(0, 1) distribution.\"\"\")\n",
    "    ax.set_ylim([0, .6])\n",
    "    ax.set_xlim([-4, 4])\n",
    "    x = np.linspace(-4, 4, 100)\n",
    "    y = stats.norm.pdf(x)\n",
    "    ax.plot(x, y, \"r\", lw=2)\n",
    "    sns.set_theme()\n",
    "    ax = sns.distplot(t, kde=False, norm_hist=True)\n",
    "    plt.close()\n",
    "    return figure_to_image(fig)"
   ]
  },
  {
   "cell_type": "code",
   "execution_count": 291,
   "metadata": {},
   "outputs": [
    {
     "ename": "KeyboardInterrupt",
     "evalue": "",
     "output_type": "error",
     "traceback": [
      "\u001b[1;31m---------------------------------------------------------------------------\u001b[0m",
      "\u001b[1;31mKeyboardInterrupt\u001b[0m                         Traceback (most recent call last)",
      "\u001b[1;32m<ipython-input-291-5a298b10b0fc>\u001b[0m in \u001b[0;36m<module>\u001b[1;34m\u001b[0m\n\u001b[0;32m      3\u001b[0m \u001b[0msample_sizes\u001b[0m \u001b[1;33m=\u001b[0m \u001b[1;33m[\u001b[0m\u001b[1;36m25\u001b[0m\u001b[1;33m,\u001b[0m \u001b[1;36m50\u001b[0m\u001b[1;33m,\u001b[0m \u001b[1;36m100\u001b[0m\u001b[1;33m,\u001b[0m \u001b[1;36m1000\u001b[0m\u001b[1;33m,\u001b[0m \u001b[1;36m5000\u001b[0m\u001b[1;33m,\u001b[0m \u001b[1;36m10000\u001b[0m\u001b[1;33m]\u001b[0m\u001b[1;33m\u001b[0m\u001b[1;33m\u001b[0m\u001b[0m\n\u001b[0;32m      4\u001b[0m \u001b[1;32mfor\u001b[0m \u001b[0mn\u001b[0m \u001b[1;32min\u001b[0m \u001b[0msample_sizes\u001b[0m\u001b[1;33m:\u001b[0m\u001b[1;33m\u001b[0m\u001b[1;33m\u001b[0m\u001b[0m\n\u001b[1;32m----> 5\u001b[1;33m     \u001b[0mimgs_null\u001b[0m\u001b[1;33m.\u001b[0m\u001b[0mappend\u001b[0m\u001b[1;33m(\u001b[0m\u001b[0mnull_distribution\u001b[0m\u001b[1;33m(\u001b[0m\u001b[0mn\u001b[0m\u001b[1;33m,\u001b[0m \u001b[0mn\u001b[0m\u001b[1;33m,\u001b[0m \u001b[0mp_A\u001b[0m\u001b[1;33m,\u001b[0m \u001b[0malpha\u001b[0m\u001b[1;33m,\u001b[0m \u001b[0mnum_replications\u001b[0m\u001b[1;33m)\u001b[0m\u001b[1;33m)\u001b[0m\u001b[1;33m\u001b[0m\u001b[1;33m\u001b[0m\u001b[0m\n\u001b[0m\u001b[0;32m      6\u001b[0m \u001b[0mimageio\u001b[0m\u001b[1;33m.\u001b[0m\u001b[0mmimsave\u001b[0m\u001b[1;33m(\u001b[0m\u001b[1;34m\"null_distr.gif\"\u001b[0m\u001b[1;33m,\u001b[0m \u001b[0mimgs_null\u001b[0m\u001b[1;33m,\u001b[0m \u001b[0mformat\u001b[0m\u001b[1;33m=\u001b[0m\u001b[1;34m\"gif\"\u001b[0m\u001b[1;33m,\u001b[0m \u001b[0mfps\u001b[0m\u001b[1;33m=\u001b[0m\u001b[1;36m.5\u001b[0m\u001b[1;33m)\u001b[0m\u001b[1;33m\u001b[0m\u001b[1;33m\u001b[0m\u001b[0m\n",
      "\u001b[1;32m<ipython-input-277-020e91f28402>\u001b[0m in \u001b[0;36mnull_distribution\u001b[1;34m(n_A, n_B, p_A, alpha, num_replications)\u001b[0m\n\u001b[0;32m      2\u001b[0m \u001b[1;33m\u001b[0m\u001b[0m\n\u001b[0;32m      3\u001b[0m     \u001b[0mp_B\u001b[0m \u001b[1;33m=\u001b[0m \u001b[0mp_A\u001b[0m\u001b[1;33m\u001b[0m\u001b[1;33m\u001b[0m\u001b[0m\n\u001b[1;32m----> 4\u001b[1;33m     \u001b[0mt\u001b[0m\u001b[1;33m,\u001b[0m \u001b[0mphi\u001b[0m \u001b[1;33m=\u001b[0m \u001b[0msimulate_distribution_phat\u001b[0m\u001b[1;33m(\u001b[0m\u001b[0mp_A\u001b[0m\u001b[1;33m,\u001b[0m \u001b[0mn_A\u001b[0m\u001b[1;33m,\u001b[0m \u001b[0mp_B\u001b[0m\u001b[1;33m,\u001b[0m \u001b[0mn_B\u001b[0m\u001b[1;33m,\u001b[0m \u001b[0malpha\u001b[0m\u001b[1;33m,\u001b[0m \u001b[0mnum_replications\u001b[0m\u001b[1;33m)\u001b[0m\u001b[1;33m\u001b[0m\u001b[1;33m\u001b[0m\u001b[0m\n\u001b[0m\u001b[0;32m      5\u001b[0m     \u001b[0mprint\u001b[0m\u001b[1;33m(\u001b[0m\u001b[1;34mf\"The power is {np.mean(phi)}.\"\u001b[0m\u001b[1;33m)\u001b[0m\u001b[1;33m\u001b[0m\u001b[1;33m\u001b[0m\u001b[0m\n\u001b[0;32m      6\u001b[0m     \u001b[0mfig\u001b[0m\u001b[1;33m,\u001b[0m \u001b[0max\u001b[0m \u001b[1;33m=\u001b[0m \u001b[0mplt\u001b[0m\u001b[1;33m.\u001b[0m\u001b[0msubplots\u001b[0m\u001b[1;33m(\u001b[0m\u001b[1;36m1\u001b[0m\u001b[1;33m,\u001b[0m \u001b[1;36m1\u001b[0m\u001b[1;33m,\u001b[0m \u001b[0mconstrained_layout\u001b[0m\u001b[1;33m=\u001b[0m\u001b[1;32mTrue\u001b[0m\u001b[1;33m)\u001b[0m\u001b[1;33m\u001b[0m\u001b[1;33m\u001b[0m\u001b[0m\n",
      "\u001b[1;32m<ipython-input-250-f9891e799a94>\u001b[0m in \u001b[0;36msimulate_distribution_phat\u001b[1;34m(p_A, n_A, p_B, n_B, alpha, num_replications)\u001b[0m\n\u001b[0;32m      6\u001b[0m     \u001b[0mno_heads_B\u001b[0m \u001b[1;33m=\u001b[0m \u001b[0mbinom\u001b[0m\u001b[1;33m.\u001b[0m\u001b[0mrvs\u001b[0m\u001b[1;33m(\u001b[0m\u001b[0mn_B\u001b[0m\u001b[1;33m,\u001b[0m \u001b[0mp_B\u001b[0m\u001b[1;33m,\u001b[0m \u001b[0mloc\u001b[0m\u001b[1;33m=\u001b[0m\u001b[1;36m0\u001b[0m\u001b[1;33m,\u001b[0m \u001b[0msize\u001b[0m\u001b[1;33m=\u001b[0m\u001b[0mnum_replications\u001b[0m\u001b[1;33m)\u001b[0m\u001b[1;33m\u001b[0m\u001b[1;33m\u001b[0m\u001b[0m\n\u001b[0;32m      7\u001b[0m     \u001b[0mvectorized_t_test\u001b[0m \u001b[1;33m=\u001b[0m \u001b[0mnp\u001b[0m\u001b[1;33m.\u001b[0m\u001b[0mvectorize\u001b[0m\u001b[1;33m(\u001b[0m\u001b[0mt_test\u001b[0m\u001b[1;33m)\u001b[0m\u001b[1;33m\u001b[0m\u001b[1;33m\u001b[0m\u001b[0m\n\u001b[1;32m----> 8\u001b[1;33m     \u001b[0mt\u001b[0m\u001b[1;33m,\u001b[0m \u001b[0mphi\u001b[0m \u001b[1;33m=\u001b[0m \u001b[0mvectorized_t_test\u001b[0m\u001b[1;33m(\u001b[0m\u001b[0mno_heads_A\u001b[0m\u001b[1;33m,\u001b[0m \u001b[0mn_A\u001b[0m\u001b[1;33m,\u001b[0m \u001b[0mno_heads_B\u001b[0m\u001b[1;33m,\u001b[0m \u001b[0mn_B\u001b[0m\u001b[1;33m,\u001b[0m \u001b[0malpha\u001b[0m\u001b[1;33m)\u001b[0m\u001b[1;33m\u001b[0m\u001b[1;33m\u001b[0m\u001b[0m\n\u001b[0m\u001b[0;32m      9\u001b[0m     \u001b[1;32mreturn\u001b[0m \u001b[0mt\u001b[0m\u001b[1;33m,\u001b[0m \u001b[0mphi\u001b[0m\u001b[1;33m\u001b[0m\u001b[1;33m\u001b[0m\u001b[0m\n",
      "\u001b[1;32mD:\\Anaconda3\\lib\\site-packages\\numpy\\lib\\function_base.py\u001b[0m in \u001b[0;36m__call__\u001b[1;34m(self, *args, **kwargs)\u001b[0m\n\u001b[0;32m   2106\u001b[0m             \u001b[0mvargs\u001b[0m\u001b[1;33m.\u001b[0m\u001b[0mextend\u001b[0m\u001b[1;33m(\u001b[0m\u001b[1;33m[\u001b[0m\u001b[0mkwargs\u001b[0m\u001b[1;33m[\u001b[0m\u001b[0m_n\u001b[0m\u001b[1;33m]\u001b[0m \u001b[1;32mfor\u001b[0m \u001b[0m_n\u001b[0m \u001b[1;32min\u001b[0m \u001b[0mnames\u001b[0m\u001b[1;33m]\u001b[0m\u001b[1;33m)\u001b[0m\u001b[1;33m\u001b[0m\u001b[1;33m\u001b[0m\u001b[0m\n\u001b[0;32m   2107\u001b[0m \u001b[1;33m\u001b[0m\u001b[0m\n\u001b[1;32m-> 2108\u001b[1;33m         \u001b[1;32mreturn\u001b[0m \u001b[0mself\u001b[0m\u001b[1;33m.\u001b[0m\u001b[0m_vectorize_call\u001b[0m\u001b[1;33m(\u001b[0m\u001b[0mfunc\u001b[0m\u001b[1;33m=\u001b[0m\u001b[0mfunc\u001b[0m\u001b[1;33m,\u001b[0m \u001b[0margs\u001b[0m\u001b[1;33m=\u001b[0m\u001b[0mvargs\u001b[0m\u001b[1;33m)\u001b[0m\u001b[1;33m\u001b[0m\u001b[1;33m\u001b[0m\u001b[0m\n\u001b[0m\u001b[0;32m   2109\u001b[0m \u001b[1;33m\u001b[0m\u001b[0m\n\u001b[0;32m   2110\u001b[0m     \u001b[1;32mdef\u001b[0m \u001b[0m_get_ufunc_and_otypes\u001b[0m\u001b[1;33m(\u001b[0m\u001b[0mself\u001b[0m\u001b[1;33m,\u001b[0m \u001b[0mfunc\u001b[0m\u001b[1;33m,\u001b[0m \u001b[0margs\u001b[0m\u001b[1;33m)\u001b[0m\u001b[1;33m:\u001b[0m\u001b[1;33m\u001b[0m\u001b[1;33m\u001b[0m\u001b[0m\n",
      "\u001b[1;32mD:\\Anaconda3\\lib\\site-packages\\numpy\\lib\\function_base.py\u001b[0m in \u001b[0;36m_vectorize_call\u001b[1;34m(self, func, args)\u001b[0m\n\u001b[0;32m   2190\u001b[0m                       for a in args]\n\u001b[0;32m   2191\u001b[0m \u001b[1;33m\u001b[0m\u001b[0m\n\u001b[1;32m-> 2192\u001b[1;33m             \u001b[0moutputs\u001b[0m \u001b[1;33m=\u001b[0m \u001b[0mufunc\u001b[0m\u001b[1;33m(\u001b[0m\u001b[1;33m*\u001b[0m\u001b[0minputs\u001b[0m\u001b[1;33m)\u001b[0m\u001b[1;33m\u001b[0m\u001b[1;33m\u001b[0m\u001b[0m\n\u001b[0m\u001b[0;32m   2193\u001b[0m \u001b[1;33m\u001b[0m\u001b[0m\n\u001b[0;32m   2194\u001b[0m             \u001b[1;32mif\u001b[0m \u001b[0mufunc\u001b[0m\u001b[1;33m.\u001b[0m\u001b[0mnout\u001b[0m \u001b[1;33m==\u001b[0m \u001b[1;36m1\u001b[0m\u001b[1;33m:\u001b[0m\u001b[1;33m\u001b[0m\u001b[1;33m\u001b[0m\u001b[0m\n",
      "\u001b[1;32m<ipython-input-3-7ec08d6fd1de>\u001b[0m in \u001b[0;36mt_test\u001b[1;34m(num_heads_A, n_A, num_heads_B, n_B, alpha)\u001b[0m\n\u001b[0;32m     15\u001b[0m     \u001b[1;32melse\u001b[0m\u001b[1;33m:\u001b[0m\u001b[1;33m\u001b[0m\u001b[1;33m\u001b[0m\u001b[0m\n\u001b[0;32m     16\u001b[0m         \u001b[0mt\u001b[0m \u001b[1;33m=\u001b[0m \u001b[1;36m0\u001b[0m\u001b[1;33m\u001b[0m\u001b[1;33m\u001b[0m\u001b[0m\n\u001b[1;32m---> 17\u001b[1;33m     \u001b[0mphi\u001b[0m \u001b[1;33m=\u001b[0m \u001b[1;33m(\u001b[0m\u001b[0mt\u001b[0m \u001b[1;33m>=\u001b[0m \u001b[0mnorm\u001b[0m\u001b[1;33m.\u001b[0m\u001b[0mppf\u001b[0m\u001b[1;33m(\u001b[0m\u001b[1;36m1\u001b[0m \u001b[1;33m-\u001b[0m \u001b[0malpha\u001b[0m\u001b[1;33m)\u001b[0m\u001b[1;33m)\u001b[0m\u001b[1;33m\u001b[0m\u001b[1;33m\u001b[0m\u001b[0m\n\u001b[0m\u001b[0;32m     18\u001b[0m     \u001b[1;32mreturn\u001b[0m \u001b[0mt\u001b[0m\u001b[1;33m,\u001b[0m \u001b[0mphi\u001b[0m\u001b[1;33m\u001b[0m\u001b[1;33m\u001b[0m\u001b[0m\n",
      "\u001b[1;32mD:\\Anaconda3\\lib\\site-packages\\scipy\\stats\\_distn_infrastructure.py\u001b[0m in \u001b[0;36mppf\u001b[1;34m(self, q, *args, **kwds)\u001b[0m\n\u001b[0;32m   2104\u001b[0m             \u001b[0mgoodargs\u001b[0m \u001b[1;33m=\u001b[0m \u001b[0margsreduce\u001b[0m\u001b[1;33m(\u001b[0m\u001b[0mcond\u001b[0m\u001b[1;33m,\u001b[0m \u001b[1;33m*\u001b[0m\u001b[1;33m(\u001b[0m\u001b[1;33m(\u001b[0m\u001b[0mq\u001b[0m\u001b[1;33m,\u001b[0m\u001b[1;33m)\u001b[0m\u001b[1;33m+\u001b[0m\u001b[0margs\u001b[0m\u001b[1;33m+\u001b[0m\u001b[1;33m(\u001b[0m\u001b[0mscale\u001b[0m\u001b[1;33m,\u001b[0m \u001b[0mloc\u001b[0m\u001b[1;33m)\u001b[0m\u001b[1;33m)\u001b[0m\u001b[1;33m)\u001b[0m\u001b[1;33m\u001b[0m\u001b[1;33m\u001b[0m\u001b[0m\n\u001b[0;32m   2105\u001b[0m             \u001b[0mscale\u001b[0m\u001b[1;33m,\u001b[0m \u001b[0mloc\u001b[0m\u001b[1;33m,\u001b[0m \u001b[0mgoodargs\u001b[0m \u001b[1;33m=\u001b[0m \u001b[0mgoodargs\u001b[0m\u001b[1;33m[\u001b[0m\u001b[1;33m-\u001b[0m\u001b[1;36m2\u001b[0m\u001b[1;33m]\u001b[0m\u001b[1;33m,\u001b[0m \u001b[0mgoodargs\u001b[0m\u001b[1;33m[\u001b[0m\u001b[1;33m-\u001b[0m\u001b[1;36m1\u001b[0m\u001b[1;33m]\u001b[0m\u001b[1;33m,\u001b[0m \u001b[0mgoodargs\u001b[0m\u001b[1;33m[\u001b[0m\u001b[1;33m:\u001b[0m\u001b[1;33m-\u001b[0m\u001b[1;36m2\u001b[0m\u001b[1;33m]\u001b[0m\u001b[1;33m\u001b[0m\u001b[1;33m\u001b[0m\u001b[0m\n\u001b[1;32m-> 2106\u001b[1;33m             \u001b[0mplace\u001b[0m\u001b[1;33m(\u001b[0m\u001b[0moutput\u001b[0m\u001b[1;33m,\u001b[0m \u001b[0mcond\u001b[0m\u001b[1;33m,\u001b[0m \u001b[0mself\u001b[0m\u001b[1;33m.\u001b[0m\u001b[0m_ppf\u001b[0m\u001b[1;33m(\u001b[0m\u001b[1;33m*\u001b[0m\u001b[0mgoodargs\u001b[0m\u001b[1;33m)\u001b[0m \u001b[1;33m*\u001b[0m \u001b[0mscale\u001b[0m \u001b[1;33m+\u001b[0m \u001b[0mloc\u001b[0m\u001b[1;33m)\u001b[0m\u001b[1;33m\u001b[0m\u001b[1;33m\u001b[0m\u001b[0m\n\u001b[0m\u001b[0;32m   2107\u001b[0m         \u001b[1;32mif\u001b[0m \u001b[0moutput\u001b[0m\u001b[1;33m.\u001b[0m\u001b[0mndim\u001b[0m \u001b[1;33m==\u001b[0m \u001b[1;36m0\u001b[0m\u001b[1;33m:\u001b[0m\u001b[1;33m\u001b[0m\u001b[1;33m\u001b[0m\u001b[0m\n\u001b[0;32m   2108\u001b[0m             \u001b[1;32mreturn\u001b[0m \u001b[0moutput\u001b[0m\u001b[1;33m[\u001b[0m\u001b[1;33m(\u001b[0m\u001b[1;33m)\u001b[0m\u001b[1;33m]\u001b[0m\u001b[1;33m\u001b[0m\u001b[1;33m\u001b[0m\u001b[0m\n",
      "\u001b[1;31mKeyboardInterrupt\u001b[0m: "
     ]
    }
   ],
   "source": [
    "imgs_null = []\n",
    "p_A = .2\n",
    "sample_sizes = [25, 50, 100, 1000, 5000, 10000]\n",
    "for n in sample_sizes:\n",
    "    imgs_null.append(null_distribution(n, n, p_A, alpha, num_replications))\n",
    "imageio.mimsave(\"null_distr.gif\", imgs_null, format=\"gif\", fps=.5)"
   ]
  },
  {
   "cell_type": "markdown",
   "metadata": {},
   "source": [
    "# 2. Distribution under the alternative"
   ]
  },
  {
   "cell_type": "code",
   "execution_count": 26,
   "metadata": {},
   "outputs": [],
   "source": []
  },
  {
   "cell_type": "code",
   "execution_count": 293,
   "metadata": {},
   "outputs": [],
   "source": [
    "def MC_power(n: int, fraction_A: float, p_A: float, p_B: float, alpha: float, num_replications: int):\n",
    "    \"\"\"\"This functions calculates the power, using Monte Carlo simulations, and presents the distribution\n",
    "    of the test statistic as well as its asymptotics approximation.\"\"\"\n",
    "    n_A = np.int(fraction_A * n)\n",
    "    n_B = n - n_A\n",
    "    t, phi = simulate_distribution_phat(p_A, n_A, p_B, n_B, alpha, num_replications)\n",
    "    fig, ax = plt.subplots(1, 1, constrained_layout=True)\n",
    "    fig.set_size_inches(11,8)\n",
    "    ax.set_title(f\"\"\"Distribution of $t$, on basis of {num_replications} Monte Carlo replications and for $p_A$={p_A}, $p_B$={p_B} n={n}, and $\\lambda$={fraction_A}, \n",
    "    its normal approximation (blue) and the (approximating) distribution under the null (in red).\"\"\")\n",
    "    ax.set_ylim([0, .6])\n",
    "    ax.set_xlim([-4, 8])\n",
    "    x = np.linspace(-4, 8, 100)\n",
    "    y = stats.norm.pdf(x)\n",
    "    ax.plot(x, y, \"r\", lw=2) # approximating distribution under null\n",
    "    ax = sns.distplot(t, kde=False, norm_hist=True)\n",
    "    print(f\"\"\"The power of the test is {np.round(np.mean(phi), 2)}. This approximation is based upon\n",
    "         {num_replications} Monte Carlo replications.\"\"\") \n",
    "    # check on validity approximations using local asymptotics:\n",
    "    h = np.sqrt(n) * (p_B - p_A) # parameter for local asymptotics\n",
    "    mean_local_alternative = h / np.sqrt(p_A * (1 - p_A) / fraction_A + p_B * (1 - p_B) / (1 - fraction_A))\n",
    "    x = np.linspace( - 4, 8, 100)\n",
    "    y = stats.norm.pdf(x, loc=mean_local_alternative, scale=1)                                                         \n",
    "    ax.plot(x, y, \"b\", lw=2)\n",
    "    plt.fill_between(x[x > norm.ppf(1 - alpha)], norm.pdf(x[x > norm.ppf(1 - alpha)], loc=mean_local_alternative))\n",
    "    p = 1 - norm.cdf(norm.ppf(1 - alpha), loc=mean_local_alternative, scale=1)\n",
    "    print(f\"An approximation to power, using local asymptotics, is {np.round(p, 2)}.\")\n",
    "    plt.close()\n",
    "    return figure_to_image(fig)"
   ]
  },
  {
   "cell_type": "code",
   "execution_count": 295,
   "metadata": {},
   "outputs": [
    {
     "name": "stderr",
     "output_type": "stream",
     "text": [
      "D:\\Anaconda3\\lib\\site-packages\\seaborn\\distributions.py:2557: FutureWarning: `distplot` is a deprecated function and will be removed in a future version. Please adapt your code to use either `displot` (a figure-level function with similar flexibility) or `histplot` (an axes-level function for histograms).\n",
      "  warnings.warn(msg, FutureWarning)\n"
     ]
    },
    {
     "name": "stdout",
     "output_type": "stream",
     "text": [
      "The power of the test is 0.09. This approximation is based upon\n",
      "         100000 Monte Carlo replications.\n",
      "An approximation to power, using local asymptotics, is 0.08.\n"
     ]
    },
    {
     "name": "stderr",
     "output_type": "stream",
     "text": [
      "<ipython-input-265-d8f52020b5ef>:5: DeprecationWarning: The binary mode of fromstring is deprecated, as it behaves surprisingly on unicode inputs. Use frombuffer instead\n",
      "  buffer = np.fromstring(fig.canvas.tostring_argb(), dtype=np.uint8)\n",
      "<ipython-input-265-d8f52020b5ef>:9: DeprecationWarning: tostring() is deprecated. Use tobytes() instead.\n",
      "  return Image.frombuffer(\"RGBA\", (w, h), buffer.tostring())\n",
      "D:\\Anaconda3\\lib\\site-packages\\seaborn\\distributions.py:2557: FutureWarning: `distplot` is a deprecated function and will be removed in a future version. Please adapt your code to use either `displot` (a figure-level function with similar flexibility) or `histplot` (an axes-level function for histograms).\n",
      "  warnings.warn(msg, FutureWarning)\n"
     ]
    },
    {
     "name": "stdout",
     "output_type": "stream",
     "text": [
      "The power of the test is 0.11. This approximation is based upon\n",
      "         100000 Monte Carlo replications.\n",
      "An approximation to power, using local asymptotics, is 0.1.\n"
     ]
    },
    {
     "name": "stderr",
     "output_type": "stream",
     "text": [
      "<ipython-input-265-d8f52020b5ef>:5: DeprecationWarning: The binary mode of fromstring is deprecated, as it behaves surprisingly on unicode inputs. Use frombuffer instead\n",
      "  buffer = np.fromstring(fig.canvas.tostring_argb(), dtype=np.uint8)\n",
      "<ipython-input-265-d8f52020b5ef>:9: DeprecationWarning: tostring() is deprecated. Use tobytes() instead.\n",
      "  return Image.frombuffer(\"RGBA\", (w, h), buffer.tostring())\n",
      "D:\\Anaconda3\\lib\\site-packages\\seaborn\\distributions.py:2557: FutureWarning: `distplot` is a deprecated function and will be removed in a future version. Please adapt your code to use either `displot` (a figure-level function with similar flexibility) or `histplot` (an axes-level function for histograms).\n",
      "  warnings.warn(msg, FutureWarning)\n"
     ]
    },
    {
     "name": "stdout",
     "output_type": "stream",
     "text": [
      "The power of the test is 0.13. This approximation is based upon\n",
      "         100000 Monte Carlo replications.\n",
      "An approximation to power, using local asymptotics, is 0.13.\n"
     ]
    },
    {
     "name": "stderr",
     "output_type": "stream",
     "text": [
      "<ipython-input-265-d8f52020b5ef>:5: DeprecationWarning: The binary mode of fromstring is deprecated, as it behaves surprisingly on unicode inputs. Use frombuffer instead\n",
      "  buffer = np.fromstring(fig.canvas.tostring_argb(), dtype=np.uint8)\n",
      "<ipython-input-265-d8f52020b5ef>:9: DeprecationWarning: tostring() is deprecated. Use tobytes() instead.\n",
      "  return Image.frombuffer(\"RGBA\", (w, h), buffer.tostring())\n",
      "D:\\Anaconda3\\lib\\site-packages\\seaborn\\distributions.py:2557: FutureWarning: `distplot` is a deprecated function and will be removed in a future version. Please adapt your code to use either `displot` (a figure-level function with similar flexibility) or `histplot` (an axes-level function for histograms).\n",
      "  warnings.warn(msg, FutureWarning)\n"
     ]
    },
    {
     "name": "stdout",
     "output_type": "stream",
     "text": [
      "The power of the test is 0.5. This approximation is based upon\n",
      "         100000 Monte Carlo replications.\n",
      "An approximation to power, using local asymptotics, is 0.5.\n"
     ]
    },
    {
     "name": "stderr",
     "output_type": "stream",
     "text": [
      "<ipython-input-265-d8f52020b5ef>:5: DeprecationWarning: The binary mode of fromstring is deprecated, as it behaves surprisingly on unicode inputs. Use frombuffer instead\n",
      "  buffer = np.fromstring(fig.canvas.tostring_argb(), dtype=np.uint8)\n",
      "<ipython-input-265-d8f52020b5ef>:9: DeprecationWarning: tostring() is deprecated. Use tobytes() instead.\n",
      "  return Image.frombuffer(\"RGBA\", (w, h), buffer.tostring())\n",
      "D:\\Anaconda3\\lib\\site-packages\\seaborn\\distributions.py:2557: FutureWarning: `distplot` is a deprecated function and will be removed in a future version. Please adapt your code to use either `displot` (a figure-level function with similar flexibility) or `histplot` (an axes-level function for histograms).\n",
      "  warnings.warn(msg, FutureWarning)\n"
     ]
    },
    {
     "name": "stdout",
     "output_type": "stream",
     "text": [
      "The power of the test is 0.98. This approximation is based upon\n",
      "         100000 Monte Carlo replications.\n",
      "An approximation to power, using local asymptotics, is 0.98.\n"
     ]
    },
    {
     "name": "stderr",
     "output_type": "stream",
     "text": [
      "<ipython-input-265-d8f52020b5ef>:5: DeprecationWarning: The binary mode of fromstring is deprecated, as it behaves surprisingly on unicode inputs. Use frombuffer instead\n",
      "  buffer = np.fromstring(fig.canvas.tostring_argb(), dtype=np.uint8)\n",
      "<ipython-input-265-d8f52020b5ef>:9: DeprecationWarning: tostring() is deprecated. Use tobytes() instead.\n",
      "  return Image.frombuffer(\"RGBA\", (w, h), buffer.tostring())\n",
      "D:\\Anaconda3\\lib\\site-packages\\seaborn\\distributions.py:2557: FutureWarning: `distplot` is a deprecated function and will be removed in a future version. Please adapt your code to use either `displot` (a figure-level function with similar flexibility) or `histplot` (an axes-level function for histograms).\n",
      "  warnings.warn(msg, FutureWarning)\n"
     ]
    },
    {
     "name": "stdout",
     "output_type": "stream",
     "text": [
      "The power of the test is 1.0. This approximation is based upon\n",
      "         100000 Monte Carlo replications.\n",
      "An approximation to power, using local asymptotics, is 1.0.\n"
     ]
    },
    {
     "name": "stderr",
     "output_type": "stream",
     "text": [
      "<ipython-input-265-d8f52020b5ef>:5: DeprecationWarning: The binary mode of fromstring is deprecated, as it behaves surprisingly on unicode inputs. Use frombuffer instead\n",
      "  buffer = np.fromstring(fig.canvas.tostring_argb(), dtype=np.uint8)\n",
      "<ipython-input-265-d8f52020b5ef>:9: DeprecationWarning: tostring() is deprecated. Use tobytes() instead.\n",
      "  return Image.frombuffer(\"RGBA\", (w, h), buffer.tostring())\n",
      "D:\\Anaconda3\\lib\\site-packages\\seaborn\\distributions.py:2557: FutureWarning: `distplot` is a deprecated function and will be removed in a future version. Please adapt your code to use either `displot` (a figure-level function with similar flexibility) or `histplot` (an axes-level function for histograms).\n",
      "  warnings.warn(msg, FutureWarning)\n"
     ]
    },
    {
     "name": "stdout",
     "output_type": "stream",
     "text": [
      "The power of the test is 1.0. This approximation is based upon\n",
      "         100000 Monte Carlo replications.\n",
      "An approximation to power, using local asymptotics, is 1.0.\n"
     ]
    },
    {
     "name": "stderr",
     "output_type": "stream",
     "text": [
      "<ipython-input-265-d8f52020b5ef>:5: DeprecationWarning: The binary mode of fromstring is deprecated, as it behaves surprisingly on unicode inputs. Use frombuffer instead\n",
      "  buffer = np.fromstring(fig.canvas.tostring_argb(), dtype=np.uint8)\n",
      "<ipython-input-265-d8f52020b5ef>:9: DeprecationWarning: tostring() is deprecated. Use tobytes() instead.\n",
      "  return Image.frombuffer(\"RGBA\", (w, h), buffer.tostring())\n"
     ]
    }
   ],
   "source": [
    "imgs_alt = []\n",
    "p_A = .2\n",
    "p_B = .23\n",
    "sample_sizes = [50, 100, 200, 2000, 10000, 20000, 200000]\n",
    "eta = .5\n",
    "for n in sample_sizes:\n",
    "    imgs_alt.append(MC_power(n, eta, p_A, p_B, alpha, num_replications))\n",
    "imageio.mimsave(\"alt_distr.gif\", imgs_alt, format=\"gif\", fps=.5)\n"
   ]
  },
  {
   "cell_type": "code",
   "execution_count": null,
   "metadata": {},
   "outputs": [],
   "source": []
  },
  {
   "cell_type": "code",
   "execution_count": null,
   "metadata": {},
   "outputs": [],
   "source": []
  },
  {
   "cell_type": "code",
   "execution_count": null,
   "metadata": {},
   "outputs": [],
   "source": []
  },
  {
   "cell_type": "code",
   "execution_count": null,
   "metadata": {},
   "outputs": [],
   "source": []
  },
  {
   "cell_type": "code",
   "execution_count": null,
   "metadata": {},
   "outputs": [],
   "source": [
    "#!brew install imagemagick"
   ]
  },
  {
   "cell_type": "code",
   "execution_count": null,
   "metadata": {},
   "outputs": [],
   "source": []
  },
  {
   "cell_type": "markdown",
   "metadata": {},
   "source": [
    "# Test statistic"
   ]
  },
  {
   "cell_type": "markdown",
   "metadata": {},
   "source": [
    "\n",
    "\n",
    "\n",
    "\n",
    "<b>Asymptotic distribution under local alternatives</b> To exploit asymptotic power functions, we introduce the local alternatives $H_a:\\, p_B=p_A + h/\\sqrt{n}$ and we impose $n_A =[\\lambda n]$ and $n_B=[(1-\\lambda)n]$, with $\\lambda\\in (0,1)$. Then we have, under the local alternative $h$ and for large $n$, $t \\approx N(\\tau,1)$\n",
    "with $\\tau = h / \\sqrt{\\hat{p}_A(1-\\hat{p}_A)/\\lambda + \\hat{p}_B(1-\\hat{p}_B)/(1-\\lambda) }$. \n"
   ]
  },
  {
   "cell_type": "code",
   "execution_count": null,
   "metadata": {},
   "outputs": [],
   "source": []
  },
  {
   "cell_type": "markdown",
   "metadata": {},
   "source": [
    "## Stuff for Monte Carlo"
   ]
  },
  {
   "cell_type": "code",
   "execution_count": null,
   "metadata": {},
   "outputs": [],
   "source": []
  },
  {
   "cell_type": "markdown",
   "metadata": {},
   "source": [
    "## Widget for analyzing power of test"
   ]
  },
  {
   "cell_type": "markdown",
   "metadata": {},
   "source": [
    "For given settings we calculate the power of the test, i.e. the probability of rejecting the null hypothesis. Two methods are employed: i) Monte Carlo simulations yielding an approximation to the finite-sample distribution of the test statistic, ii) an approximation based on asymptotic theory."
   ]
  },
  {
   "cell_type": "code",
   "execution_count": null,
   "metadata": {},
   "outputs": [],
   "source": [
    "widgets.interact(power_MC, n=(100, 5000, 50), n_fraction_A=(.25,.75, .05), p_A=(0.01,0.5,0.01), p_B=(0.01,0.5,0.01), alpha=fixed(alpha), no_replications=fixed(no_replications))  "
   ]
  },
  {
   "cell_type": "markdown",
   "metadata": {},
   "source": [
    "## Calculating required sample size A/B test"
   ]
  },
  {
   "cell_type": "code",
   "execution_count": 320,
   "metadata": {},
   "outputs": [],
   "source": [
    "def required_total_sample_size(fraction_A: float, p_A: float, p_B: float, desired_power: float, alpha: float=.05) -> int:\n",
    "    \"\"\"\"This functions determines the sample size n that one needs to achieve desired_power as power. Note that p_B > p_A \n",
    "    is required. fraction_A represent the fraction of observations that will come from population A.\"\"\"\n",
    "    term_1 =  norm.ppf(1 - alpha) - norm.ppf(1 - desired_power)\n",
    "    term_2 = np.sqrt(p_A * (1 - p_A) / fraction_A + p_B * (1 - p_B) / (1 - fraction_A)) / (p_B - p_A)\n",
    "    n = np.int(math.pow(term_1 * term_2, 2))\n",
    "    return n "
   ]
  },
  {
   "cell_type": "code",
   "execution_count": 324,
   "metadata": {},
   "outputs": [],
   "source": [
    "def required_total_sample_size(fraction_A: float, p_A: float, p_B: float, desired_power: float, alpha: float=.05) -> int:\n",
    "    \"\"\"\"This functions determines the sample size n that one needs to achieve desired_power as power. Note that p_B > p_A \n",
    "    is required.\"\"\"\n",
    "    term_1 =  norm.ppf(1 - alpha) - norm.ppf(1 - desired_power)\n",
    "    term_2 = np.sqrt(p_A * (1 - p_A) / fraction_A + p_B * (1 - p_B) / (1 - fraction_A)) / (p_B - p_A)\n",
    "    n = int(np.ceil(math.pow(term_1 * term_2, 2)))\n",
    "    print(f\"\"\"\n",
    "    Consider a one-sided level alpha={alpha} test with {100*fraction_A}% of the total no. of observations belonging to\n",
    "    group A. Then we need {n} observations to detect alternative p_B={p_B} against null p_A=p_B, with \n",
    "    p_A={p_A}, with power={desired_power}\"\"\")\n",
    "    return n "
   ]
  },
  {
   "cell_type": "code",
   "execution_count": 325,
   "metadata": {},
   "outputs": [
    {
     "name": "stdout",
     "output_type": "stream",
     "text": [
      "\n",
      "    Consider a one-sided level alpha=0.05 test with 50.0% of the total no. of observations belonging to\n",
      "    group A. Then we need 4632 observations to detect alternative p_B=0.23 against null p_A=p_B, with \n",
      "    p_A=0.2, with power=0.8\n"
     ]
    }
   ],
   "source": [
    "# Example:\n",
    "fraction_A = .5 \n",
    "p_A = .2\n",
    "p_B = .23\n",
    "power_detecting_min_p_B = .80 # required powe to detect alternative p_B\n",
    "alpha = .05 # asymptotic size of test\n",
    "n_req = required_total_sample_size(fraction_A, p_A, p_B, power_detecting_min_p_B, alpha)"
   ]
  },
  {
   "cell_type": "markdown",
   "metadata": {},
   "source": [
    "Check that our calculation is valid. Please note that calculation of the sample size is based on asymptotic approximations, so the desired power needs to be compared with the asymptotic result. It is also important to check if, for the chosen settings, the asymptotic approximations are close to the actual finite-sample results. "
   ]
  },
  {
   "cell_type": "code",
   "execution_count": 327,
   "metadata": {},
   "outputs": [
    {
     "name": "stderr",
     "output_type": "stream",
     "text": [
      "D:\\Anaconda3\\lib\\site-packages\\seaborn\\distributions.py:2557: FutureWarning: `distplot` is a deprecated function and will be removed in a future version. Please adapt your code to use either `displot` (a figure-level function with similar flexibility) or `histplot` (an axes-level function for histograms).\n",
      "  warnings.warn(msg, FutureWarning)\n"
     ]
    },
    {
     "name": "stdout",
     "output_type": "stream",
     "text": [
      "The power of the test is 0.8. This approximation is based upon\n",
      "         100000 Monte Carlo replications.\n",
      "An approximation to power, using local asymptotics, is 0.8.\n"
     ]
    },
    {
     "name": "stderr",
     "output_type": "stream",
     "text": [
      "<ipython-input-265-d8f52020b5ef>:5: DeprecationWarning: The binary mode of fromstring is deprecated, as it behaves surprisingly on unicode inputs. Use frombuffer instead\n",
      "  buffer = np.fromstring(fig.canvas.tostring_argb(), dtype=np.uint8)\n",
      "<ipython-input-265-d8f52020b5ef>:9: DeprecationWarning: tostring() is deprecated. Use tobytes() instead.\n",
      "  return Image.frombuffer(\"RGBA\", (w, h), buffer.tostring())\n"
     ]
    }
   ],
   "source": [
    "img = MC_power(n_req, fraction_A, p_A, p_B, alpha, num_replications)"
   ]
  },
  {
   "cell_type": "code",
   "execution_count": 328,
   "metadata": {},
   "outputs": [],
   "source": [
    "img.save(\"sample_size_verified.gif\")"
   ]
  },
  {
   "cell_type": "code",
   "execution_count": null,
   "metadata": {},
   "outputs": [],
   "source": []
  }
 ],
 "metadata": {
  "kernelspec": {
   "display_name": "Python 3.9 (XPython)",
   "language": "python",
   "name": "xpython"
  },
  "language_info": {
   "file_extension": ".py",
   "mimetype": "text/x-python",
   "name": "python",
   "version": "3.9.0"
  }
 },
 "nbformat": 4,
 "nbformat_minor": 4
}
