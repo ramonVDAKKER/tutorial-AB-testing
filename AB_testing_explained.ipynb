{
  "nbformat": 4,
  "nbformat_minor": 0,
  "metadata": {
    "kernelspec": {
      "name": "python3",
      "display_name": "Python 3"
    },
    "colab": {
      "name": "Copy of AB_testing_explained.ipynb",
      "provenance": [],
      "include_colab_link": true
    },
    "language_info": {
      "name": "python"
    },
    "widgets": {
      "application/vnd.jupyter.widget-state+json": {
        "3d6ac198d7564e1cb76e69f2504bff3d": {
          "model_module": "@jupyter-widgets/controls",
          "model_name": "VBoxModel",
          "state": {
            "_view_name": "VBoxView",
            "_dom_classes": [
              "widget-interact"
            ],
            "_model_name": "VBoxModel",
            "_view_module": "@jupyter-widgets/controls",
            "_model_module_version": "1.5.0",
            "_view_count": null,
            "_view_module_version": "1.5.0",
            "box_style": "",
            "layout": "IPY_MODEL_4617e2064d0c4b8898fa351a8f755cb9",
            "_model_module": "@jupyter-widgets/controls",
            "children": [
              "IPY_MODEL_b5ab9915180747f4aa340de8da7937dd",
              "IPY_MODEL_0cdb5aa92fe04a019cd8da88cc4f997d",
              "IPY_MODEL_d3d27870a20543b9956b1ba6ad98eba6",
              "IPY_MODEL_9d9328cac765469bb4144913b9938f7e"
            ]
          }
        },
        "4617e2064d0c4b8898fa351a8f755cb9": {
          "model_module": "@jupyter-widgets/base",
          "model_name": "LayoutModel",
          "state": {
            "_view_name": "LayoutView",
            "grid_template_rows": null,
            "right": null,
            "justify_content": null,
            "_view_module": "@jupyter-widgets/base",
            "overflow": null,
            "_model_module_version": "1.2.0",
            "_view_count": null,
            "flex_flow": null,
            "width": null,
            "min_width": null,
            "border": null,
            "align_items": null,
            "bottom": null,
            "_model_module": "@jupyter-widgets/base",
            "top": null,
            "grid_column": null,
            "overflow_y": null,
            "overflow_x": null,
            "grid_auto_flow": null,
            "grid_area": null,
            "grid_template_columns": null,
            "flex": null,
            "_model_name": "LayoutModel",
            "justify_items": null,
            "grid_row": null,
            "max_height": null,
            "align_content": null,
            "visibility": null,
            "align_self": null,
            "height": null,
            "min_height": null,
            "padding": null,
            "grid_auto_rows": null,
            "grid_gap": null,
            "max_width": null,
            "order": null,
            "_view_module_version": "1.2.0",
            "grid_template_areas": null,
            "object_position": null,
            "object_fit": null,
            "grid_auto_columns": null,
            "margin": null,
            "display": null,
            "left": null
          }
        },
        "b5ab9915180747f4aa340de8da7937dd": {
          "model_module": "@jupyter-widgets/controls",
          "model_name": "DropdownModel",
          "state": {
            "_options_labels": [
              "50",
              "100",
              "1000",
              "10000"
            ],
            "_view_name": "DropdownView",
            "style": "IPY_MODEL_18effccf37e44fc4bafd7b5d948c7fea",
            "_dom_classes": [],
            "description": "n_A",
            "_model_name": "DropdownModel",
            "index": 0,
            "_view_module": "@jupyter-widgets/controls",
            "_model_module_version": "1.5.0",
            "_view_count": null,
            "disabled": false,
            "_view_module_version": "1.5.0",
            "description_tooltip": null,
            "_model_module": "@jupyter-widgets/controls",
            "layout": "IPY_MODEL_1850d47fdafc4ec492caff081c6ca4d7"
          }
        },
        "0cdb5aa92fe04a019cd8da88cc4f997d": {
          "model_module": "@jupyter-widgets/controls",
          "model_name": "DropdownModel",
          "state": {
            "_options_labels": [
              "50",
              "100",
              "1000",
              "10000"
            ],
            "_view_name": "DropdownView",
            "style": "IPY_MODEL_342219294abb4ca094d409fc7efb864b",
            "_dom_classes": [],
            "description": "n_B",
            "_model_name": "DropdownModel",
            "index": 0,
            "_view_module": "@jupyter-widgets/controls",
            "_model_module_version": "1.5.0",
            "_view_count": null,
            "disabled": false,
            "_view_module_version": "1.5.0",
            "description_tooltip": null,
            "_model_module": "@jupyter-widgets/controls",
            "layout": "IPY_MODEL_b1d480b3e78d441197fb39426f57b9b3"
          }
        },
        "d3d27870a20543b9956b1ba6ad98eba6": {
          "model_module": "@jupyter-widgets/controls",
          "model_name": "DropdownModel",
          "state": {
            "_options_labels": [
              "0.1",
              "0.2",
              "0.30000000000000004",
              "0.4",
              "0.5",
              "0.6",
              "0.7000000000000001",
              "0.8",
              "0.9"
            ],
            "_view_name": "DropdownView",
            "style": "IPY_MODEL_78237d5d722748cea1ad3ec196104072",
            "_dom_classes": [],
            "description": "p_A",
            "_model_name": "DropdownModel",
            "index": 0,
            "_view_module": "@jupyter-widgets/controls",
            "_model_module_version": "1.5.0",
            "_view_count": null,
            "disabled": false,
            "_view_module_version": "1.5.0",
            "description_tooltip": null,
            "_model_module": "@jupyter-widgets/controls",
            "layout": "IPY_MODEL_ba89b3e839764c978458ee39889180ee"
          }
        },
        "9d9328cac765469bb4144913b9938f7e": {
          "model_module": "@jupyter-widgets/output",
          "model_name": "OutputModel",
          "state": {
            "_view_name": "OutputView",
            "msg_id": "",
            "_dom_classes": [],
            "_model_name": "OutputModel",
            "outputs": [
              {
                "output_type": "stream",
                "metadata": {
                  "tags": []
                },
                "text": "The rejection probability is 0.05. If the approximation\nby the N(0,1) would be perfect and we would have no noise\ndue to using Monte Carlo to approximate the finite-sample\ndistribution this probability would be equal to 0.05.\n",
                "stream": "stdout"
              },
              {
                "output_type": "display_data",
                "metadata": {
                  "tags": [],
                  "needs_background": "light"
                },
                "image/png": "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\n",
                "text/plain": "<Figure size 432x288 with 1 Axes>"
              }
            ],
            "_view_module": "@jupyter-widgets/output",
            "_model_module_version": "1.0.0",
            "_view_count": null,
            "_view_module_version": "1.0.0",
            "layout": "IPY_MODEL_d5ae6f36b8e9423c9c1d51611d206b8f",
            "_model_module": "@jupyter-widgets/output"
          }
        },
        "18effccf37e44fc4bafd7b5d948c7fea": {
          "model_module": "@jupyter-widgets/controls",
          "model_name": "DescriptionStyleModel",
          "state": {
            "_view_name": "StyleView",
            "_model_name": "DescriptionStyleModel",
            "description_width": "",
            "_view_module": "@jupyter-widgets/base",
            "_model_module_version": "1.5.0",
            "_view_count": null,
            "_view_module_version": "1.2.0",
            "_model_module": "@jupyter-widgets/controls"
          }
        },
        "1850d47fdafc4ec492caff081c6ca4d7": {
          "model_module": "@jupyter-widgets/base",
          "model_name": "LayoutModel",
          "state": {
            "_view_name": "LayoutView",
            "grid_template_rows": null,
            "right": null,
            "justify_content": null,
            "_view_module": "@jupyter-widgets/base",
            "overflow": null,
            "_model_module_version": "1.2.0",
            "_view_count": null,
            "flex_flow": null,
            "width": null,
            "min_width": null,
            "border": null,
            "align_items": null,
            "bottom": null,
            "_model_module": "@jupyter-widgets/base",
            "top": null,
            "grid_column": null,
            "overflow_y": null,
            "overflow_x": null,
            "grid_auto_flow": null,
            "grid_area": null,
            "grid_template_columns": null,
            "flex": null,
            "_model_name": "LayoutModel",
            "justify_items": null,
            "grid_row": null,
            "max_height": null,
            "align_content": null,
            "visibility": null,
            "align_self": null,
            "height": null,
            "min_height": null,
            "padding": null,
            "grid_auto_rows": null,
            "grid_gap": null,
            "max_width": null,
            "order": null,
            "_view_module_version": "1.2.0",
            "grid_template_areas": null,
            "object_position": null,
            "object_fit": null,
            "grid_auto_columns": null,
            "margin": null,
            "display": null,
            "left": null
          }
        },
        "342219294abb4ca094d409fc7efb864b": {
          "model_module": "@jupyter-widgets/controls",
          "model_name": "DescriptionStyleModel",
          "state": {
            "_view_name": "StyleView",
            "_model_name": "DescriptionStyleModel",
            "description_width": "",
            "_view_module": "@jupyter-widgets/base",
            "_model_module_version": "1.5.0",
            "_view_count": null,
            "_view_module_version": "1.2.0",
            "_model_module": "@jupyter-widgets/controls"
          }
        },
        "b1d480b3e78d441197fb39426f57b9b3": {
          "model_module": "@jupyter-widgets/base",
          "model_name": "LayoutModel",
          "state": {
            "_view_name": "LayoutView",
            "grid_template_rows": null,
            "right": null,
            "justify_content": null,
            "_view_module": "@jupyter-widgets/base",
            "overflow": null,
            "_model_module_version": "1.2.0",
            "_view_count": null,
            "flex_flow": null,
            "width": null,
            "min_width": null,
            "border": null,
            "align_items": null,
            "bottom": null,
            "_model_module": "@jupyter-widgets/base",
            "top": null,
            "grid_column": null,
            "overflow_y": null,
            "overflow_x": null,
            "grid_auto_flow": null,
            "grid_area": null,
            "grid_template_columns": null,
            "flex": null,
            "_model_name": "LayoutModel",
            "justify_items": null,
            "grid_row": null,
            "max_height": null,
            "align_content": null,
            "visibility": null,
            "align_self": null,
            "height": null,
            "min_height": null,
            "padding": null,
            "grid_auto_rows": null,
            "grid_gap": null,
            "max_width": null,
            "order": null,
            "_view_module_version": "1.2.0",
            "grid_template_areas": null,
            "object_position": null,
            "object_fit": null,
            "grid_auto_columns": null,
            "margin": null,
            "display": null,
            "left": null
          }
        },
        "78237d5d722748cea1ad3ec196104072": {
          "model_module": "@jupyter-widgets/controls",
          "model_name": "DescriptionStyleModel",
          "state": {
            "_view_name": "StyleView",
            "_model_name": "DescriptionStyleModel",
            "description_width": "",
            "_view_module": "@jupyter-widgets/base",
            "_model_module_version": "1.5.0",
            "_view_count": null,
            "_view_module_version": "1.2.0",
            "_model_module": "@jupyter-widgets/controls"
          }
        },
        "ba89b3e839764c978458ee39889180ee": {
          "model_module": "@jupyter-widgets/base",
          "model_name": "LayoutModel",
          "state": {
            "_view_name": "LayoutView",
            "grid_template_rows": null,
            "right": null,
            "justify_content": null,
            "_view_module": "@jupyter-widgets/base",
            "overflow": null,
            "_model_module_version": "1.2.0",
            "_view_count": null,
            "flex_flow": null,
            "width": null,
            "min_width": null,
            "border": null,
            "align_items": null,
            "bottom": null,
            "_model_module": "@jupyter-widgets/base",
            "top": null,
            "grid_column": null,
            "overflow_y": null,
            "overflow_x": null,
            "grid_auto_flow": null,
            "grid_area": null,
            "grid_template_columns": null,
            "flex": null,
            "_model_name": "LayoutModel",
            "justify_items": null,
            "grid_row": null,
            "max_height": null,
            "align_content": null,
            "visibility": null,
            "align_self": null,
            "height": null,
            "min_height": null,
            "padding": null,
            "grid_auto_rows": null,
            "grid_gap": null,
            "max_width": null,
            "order": null,
            "_view_module_version": "1.2.0",
            "grid_template_areas": null,
            "object_position": null,
            "object_fit": null,
            "grid_auto_columns": null,
            "margin": null,
            "display": null,
            "left": null
          }
        },
        "d5ae6f36b8e9423c9c1d51611d206b8f": {
          "model_module": "@jupyter-widgets/base",
          "model_name": "LayoutModel",
          "state": {
            "_view_name": "LayoutView",
            "grid_template_rows": null,
            "right": null,
            "justify_content": null,
            "_view_module": "@jupyter-widgets/base",
            "overflow": null,
            "_model_module_version": "1.2.0",
            "_view_count": null,
            "flex_flow": null,
            "width": null,
            "min_width": null,
            "border": null,
            "align_items": null,
            "bottom": null,
            "_model_module": "@jupyter-widgets/base",
            "top": null,
            "grid_column": null,
            "overflow_y": null,
            "overflow_x": null,
            "grid_auto_flow": null,
            "grid_area": null,
            "grid_template_columns": null,
            "flex": null,
            "_model_name": "LayoutModel",
            "justify_items": null,
            "grid_row": null,
            "max_height": null,
            "align_content": null,
            "visibility": null,
            "align_self": null,
            "height": null,
            "min_height": null,
            "padding": null,
            "grid_auto_rows": null,
            "grid_gap": null,
            "max_width": null,
            "order": null,
            "_view_module_version": "1.2.0",
            "grid_template_areas": null,
            "object_position": null,
            "object_fit": null,
            "grid_auto_columns": null,
            "margin": null,
            "display": null,
            "left": null
          }
        },
        "bd0913581a7c401b825ed4eb27bd821f": {
          "model_module": "@jupyter-widgets/controls",
          "model_name": "VBoxModel",
          "state": {
            "_view_name": "VBoxView",
            "_dom_classes": [
              "widget-interact"
            ],
            "_model_name": "VBoxModel",
            "_view_module": "@jupyter-widgets/controls",
            "_model_module_version": "1.5.0",
            "_view_count": null,
            "_view_module_version": "1.5.0",
            "box_style": "",
            "layout": "IPY_MODEL_c4c13901c0254c898dc9159906402d67",
            "_model_module": "@jupyter-widgets/controls",
            "children": [
              "IPY_MODEL_97bac34fd09a41389a1c01e3638df7b5",
              "IPY_MODEL_9d947afb51784df0b2982967301315bf",
              "IPY_MODEL_1cae17040a794b2f9f9672c77c6be11d",
              "IPY_MODEL_bda78f3a87cf4481b2fccfb01365ec40",
              "IPY_MODEL_f8d32f4757a1402eb41aa764e558b21e"
            ]
          }
        },
        "c4c13901c0254c898dc9159906402d67": {
          "model_module": "@jupyter-widgets/base",
          "model_name": "LayoutModel",
          "state": {
            "_view_name": "LayoutView",
            "grid_template_rows": null,
            "right": null,
            "justify_content": null,
            "_view_module": "@jupyter-widgets/base",
            "overflow": null,
            "_model_module_version": "1.2.0",
            "_view_count": null,
            "flex_flow": null,
            "width": null,
            "min_width": null,
            "border": null,
            "align_items": null,
            "bottom": null,
            "_model_module": "@jupyter-widgets/base",
            "top": null,
            "grid_column": null,
            "overflow_y": null,
            "overflow_x": null,
            "grid_auto_flow": null,
            "grid_area": null,
            "grid_template_columns": null,
            "flex": null,
            "_model_name": "LayoutModel",
            "justify_items": null,
            "grid_row": null,
            "max_height": null,
            "align_content": null,
            "visibility": null,
            "align_self": null,
            "height": null,
            "min_height": null,
            "padding": null,
            "grid_auto_rows": null,
            "grid_gap": null,
            "max_width": null,
            "order": null,
            "_view_module_version": "1.2.0",
            "grid_template_areas": null,
            "object_position": null,
            "object_fit": null,
            "grid_auto_columns": null,
            "margin": null,
            "display": null,
            "left": null
          }
        },
        "97bac34fd09a41389a1c01e3638df7b5": {
          "model_module": "@jupyter-widgets/controls",
          "model_name": "DropdownModel",
          "state": {
            "_options_labels": [
              "200",
              "1000",
              "2000",
              "20000"
            ],
            "_view_name": "DropdownView",
            "style": "IPY_MODEL_5eac7768e72c4628b280b0fdb41dbdca",
            "_dom_classes": [],
            "description": "n",
            "_model_name": "DropdownModel",
            "index": 0,
            "_view_module": "@jupyter-widgets/controls",
            "_model_module_version": "1.5.0",
            "_view_count": null,
            "disabled": false,
            "_view_module_version": "1.5.0",
            "description_tooltip": null,
            "_model_module": "@jupyter-widgets/controls",
            "layout": "IPY_MODEL_9b34a5e45c124f44a1a43f7a0641e573"
          }
        },
        "9d947afb51784df0b2982967301315bf": {
          "model_module": "@jupyter-widgets/controls",
          "model_name": "DropdownModel",
          "state": {
            "_options_labels": [
              "0.1",
              "0.30000000000000004",
              "0.5",
              "0.7000000000000001",
              "0.9"
            ],
            "_view_name": "DropdownView",
            "style": "IPY_MODEL_acfad3d82ef043f49c71103ac72995f7",
            "_dom_classes": [],
            "description": "fraction_A",
            "_model_name": "DropdownModel",
            "index": 0,
            "_view_module": "@jupyter-widgets/controls",
            "_model_module_version": "1.5.0",
            "_view_count": null,
            "disabled": false,
            "_view_module_version": "1.5.0",
            "description_tooltip": null,
            "_model_module": "@jupyter-widgets/controls",
            "layout": "IPY_MODEL_e552942126744786b66ba1b61821fd66"
          }
        },
        "1cae17040a794b2f9f9672c77c6be11d": {
          "model_module": "@jupyter-widgets/controls",
          "model_name": "DropdownModel",
          "state": {
            "_options_labels": [
              "0.1",
              "0.2",
              "0.30000000000000004",
              "0.4",
              "0.5",
              "0.6",
              "0.7000000000000001",
              "0.8",
              "0.9"
            ],
            "_view_name": "DropdownView",
            "style": "IPY_MODEL_ace5441eb1f54be78b4c228273c29af6",
            "_dom_classes": [],
            "description": "p_A",
            "_model_name": "DropdownModel",
            "index": 0,
            "_view_module": "@jupyter-widgets/controls",
            "_model_module_version": "1.5.0",
            "_view_count": null,
            "disabled": false,
            "_view_module_version": "1.5.0",
            "description_tooltip": null,
            "_model_module": "@jupyter-widgets/controls",
            "layout": "IPY_MODEL_ba806c53bb49492394ba111506994d75"
          }
        },
        "bda78f3a87cf4481b2fccfb01365ec40": {
          "model_module": "@jupyter-widgets/controls",
          "model_name": "DropdownModel",
          "state": {
            "_options_labels": [
              "0.1",
              "0.2",
              "0.30000000000000004",
              "0.4",
              "0.5",
              "0.6",
              "0.7000000000000001",
              "0.8",
              "0.9"
            ],
            "_view_name": "DropdownView",
            "style": "IPY_MODEL_44db1558d9d24d83ab1ea98dc3c0d952",
            "_dom_classes": [],
            "description": "p_B",
            "_model_name": "DropdownModel",
            "index": 0,
            "_view_module": "@jupyter-widgets/controls",
            "_model_module_version": "1.5.0",
            "_view_count": null,
            "disabled": false,
            "_view_module_version": "1.5.0",
            "description_tooltip": null,
            "_model_module": "@jupyter-widgets/controls",
            "layout": "IPY_MODEL_fd5cd608ff91487d8b53bea2e45d978b"
          }
        },
        "f8d32f4757a1402eb41aa764e558b21e": {
          "model_module": "@jupyter-widgets/output",
          "model_name": "OutputModel",
          "state": {
            "_view_name": "OutputView",
            "msg_id": "",
            "_dom_classes": [],
            "_model_name": "OutputModel",
            "outputs": [
              {
                "output_type": "display_data",
                "metadata": {
                  "tags": []
                },
                "image/png": "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\n",
                "text/plain": "<Figure size 432x288 with 1 Axes>"
              }
            ],
            "_view_module": "@jupyter-widgets/output",
            "_model_module_version": "1.0.0",
            "_view_count": null,
            "_view_module_version": "1.0.0",
            "layout": "IPY_MODEL_5e3babe7834f4bf09f102bd46f371d89",
            "_model_module": "@jupyter-widgets/output"
          }
        },
        "5eac7768e72c4628b280b0fdb41dbdca": {
          "model_module": "@jupyter-widgets/controls",
          "model_name": "DescriptionStyleModel",
          "state": {
            "_view_name": "StyleView",
            "_model_name": "DescriptionStyleModel",
            "description_width": "",
            "_view_module": "@jupyter-widgets/base",
            "_model_module_version": "1.5.0",
            "_view_count": null,
            "_view_module_version": "1.2.0",
            "_model_module": "@jupyter-widgets/controls"
          }
        },
        "9b34a5e45c124f44a1a43f7a0641e573": {
          "model_module": "@jupyter-widgets/base",
          "model_name": "LayoutModel",
          "state": {
            "_view_name": "LayoutView",
            "grid_template_rows": null,
            "right": null,
            "justify_content": null,
            "_view_module": "@jupyter-widgets/base",
            "overflow": null,
            "_model_module_version": "1.2.0",
            "_view_count": null,
            "flex_flow": null,
            "width": null,
            "min_width": null,
            "border": null,
            "align_items": null,
            "bottom": null,
            "_model_module": "@jupyter-widgets/base",
            "top": null,
            "grid_column": null,
            "overflow_y": null,
            "overflow_x": null,
            "grid_auto_flow": null,
            "grid_area": null,
            "grid_template_columns": null,
            "flex": null,
            "_model_name": "LayoutModel",
            "justify_items": null,
            "grid_row": null,
            "max_height": null,
            "align_content": null,
            "visibility": null,
            "align_self": null,
            "height": null,
            "min_height": null,
            "padding": null,
            "grid_auto_rows": null,
            "grid_gap": null,
            "max_width": null,
            "order": null,
            "_view_module_version": "1.2.0",
            "grid_template_areas": null,
            "object_position": null,
            "object_fit": null,
            "grid_auto_columns": null,
            "margin": null,
            "display": null,
            "left": null
          }
        },
        "acfad3d82ef043f49c71103ac72995f7": {
          "model_module": "@jupyter-widgets/controls",
          "model_name": "DescriptionStyleModel",
          "state": {
            "_view_name": "StyleView",
            "_model_name": "DescriptionStyleModel",
            "description_width": "",
            "_view_module": "@jupyter-widgets/base",
            "_model_module_version": "1.5.0",
            "_view_count": null,
            "_view_module_version": "1.2.0",
            "_model_module": "@jupyter-widgets/controls"
          }
        },
        "e552942126744786b66ba1b61821fd66": {
          "model_module": "@jupyter-widgets/base",
          "model_name": "LayoutModel",
          "state": {
            "_view_name": "LayoutView",
            "grid_template_rows": null,
            "right": null,
            "justify_content": null,
            "_view_module": "@jupyter-widgets/base",
            "overflow": null,
            "_model_module_version": "1.2.0",
            "_view_count": null,
            "flex_flow": null,
            "width": null,
            "min_width": null,
            "border": null,
            "align_items": null,
            "bottom": null,
            "_model_module": "@jupyter-widgets/base",
            "top": null,
            "grid_column": null,
            "overflow_y": null,
            "overflow_x": null,
            "grid_auto_flow": null,
            "grid_area": null,
            "grid_template_columns": null,
            "flex": null,
            "_model_name": "LayoutModel",
            "justify_items": null,
            "grid_row": null,
            "max_height": null,
            "align_content": null,
            "visibility": null,
            "align_self": null,
            "height": null,
            "min_height": null,
            "padding": null,
            "grid_auto_rows": null,
            "grid_gap": null,
            "max_width": null,
            "order": null,
            "_view_module_version": "1.2.0",
            "grid_template_areas": null,
            "object_position": null,
            "object_fit": null,
            "grid_auto_columns": null,
            "margin": null,
            "display": null,
            "left": null
          }
        },
        "ace5441eb1f54be78b4c228273c29af6": {
          "model_module": "@jupyter-widgets/controls",
          "model_name": "DescriptionStyleModel",
          "state": {
            "_view_name": "StyleView",
            "_model_name": "DescriptionStyleModel",
            "description_width": "",
            "_view_module": "@jupyter-widgets/base",
            "_model_module_version": "1.5.0",
            "_view_count": null,
            "_view_module_version": "1.2.0",
            "_model_module": "@jupyter-widgets/controls"
          }
        },
        "ba806c53bb49492394ba111506994d75": {
          "model_module": "@jupyter-widgets/base",
          "model_name": "LayoutModel",
          "state": {
            "_view_name": "LayoutView",
            "grid_template_rows": null,
            "right": null,
            "justify_content": null,
            "_view_module": "@jupyter-widgets/base",
            "overflow": null,
            "_model_module_version": "1.2.0",
            "_view_count": null,
            "flex_flow": null,
            "width": null,
            "min_width": null,
            "border": null,
            "align_items": null,
            "bottom": null,
            "_model_module": "@jupyter-widgets/base",
            "top": null,
            "grid_column": null,
            "overflow_y": null,
            "overflow_x": null,
            "grid_auto_flow": null,
            "grid_area": null,
            "grid_template_columns": null,
            "flex": null,
            "_model_name": "LayoutModel",
            "justify_items": null,
            "grid_row": null,
            "max_height": null,
            "align_content": null,
            "visibility": null,
            "align_self": null,
            "height": null,
            "min_height": null,
            "padding": null,
            "grid_auto_rows": null,
            "grid_gap": null,
            "max_width": null,
            "order": null,
            "_view_module_version": "1.2.0",
            "grid_template_areas": null,
            "object_position": null,
            "object_fit": null,
            "grid_auto_columns": null,
            "margin": null,
            "display": null,
            "left": null
          }
        },
        "44db1558d9d24d83ab1ea98dc3c0d952": {
          "model_module": "@jupyter-widgets/controls",
          "model_name": "DescriptionStyleModel",
          "state": {
            "_view_name": "StyleView",
            "_model_name": "DescriptionStyleModel",
            "description_width": "",
            "_view_module": "@jupyter-widgets/base",
            "_model_module_version": "1.5.0",
            "_view_count": null,
            "_view_module_version": "1.2.0",
            "_model_module": "@jupyter-widgets/controls"
          }
        },
        "fd5cd608ff91487d8b53bea2e45d978b": {
          "model_module": "@jupyter-widgets/base",
          "model_name": "LayoutModel",
          "state": {
            "_view_name": "LayoutView",
            "grid_template_rows": null,
            "right": null,
            "justify_content": null,
            "_view_module": "@jupyter-widgets/base",
            "overflow": null,
            "_model_module_version": "1.2.0",
            "_view_count": null,
            "flex_flow": null,
            "width": null,
            "min_width": null,
            "border": null,
            "align_items": null,
            "bottom": null,
            "_model_module": "@jupyter-widgets/base",
            "top": null,
            "grid_column": null,
            "overflow_y": null,
            "overflow_x": null,
            "grid_auto_flow": null,
            "grid_area": null,
            "grid_template_columns": null,
            "flex": null,
            "_model_name": "LayoutModel",
            "justify_items": null,
            "grid_row": null,
            "max_height": null,
            "align_content": null,
            "visibility": null,
            "align_self": null,
            "height": null,
            "min_height": null,
            "padding": null,
            "grid_auto_rows": null,
            "grid_gap": null,
            "max_width": null,
            "order": null,
            "_view_module_version": "1.2.0",
            "grid_template_areas": null,
            "object_position": null,
            "object_fit": null,
            "grid_auto_columns": null,
            "margin": null,
            "display": null,
            "left": null
          }
        },
        "5e3babe7834f4bf09f102bd46f371d89": {
          "model_module": "@jupyter-widgets/base",
          "model_name": "LayoutModel",
          "state": {
            "_view_name": "LayoutView",
            "grid_template_rows": null,
            "right": null,
            "justify_content": null,
            "_view_module": "@jupyter-widgets/base",
            "overflow": null,
            "_model_module_version": "1.2.0",
            "_view_count": null,
            "flex_flow": null,
            "width": null,
            "min_width": null,
            "border": null,
            "align_items": null,
            "bottom": null,
            "_model_module": "@jupyter-widgets/base",
            "top": null,
            "grid_column": null,
            "overflow_y": null,
            "overflow_x": null,
            "grid_auto_flow": null,
            "grid_area": null,
            "grid_template_columns": null,
            "flex": null,
            "_model_name": "LayoutModel",
            "justify_items": null,
            "grid_row": null,
            "max_height": null,
            "align_content": null,
            "visibility": null,
            "align_self": null,
            "height": null,
            "min_height": null,
            "padding": null,
            "grid_auto_rows": null,
            "grid_gap": null,
            "max_width": null,
            "order": null,
            "_view_module_version": "1.2.0",
            "grid_template_areas": null,
            "object_position": null,
            "object_fit": null,
            "grid_auto_columns": null,
            "margin": null,
            "display": null,
            "left": null
          }
        }
      }
    }
  },
  "cells": [
    {
      "cell_type": "markdown",
      "metadata": {
        "id": "view-in-github",
        "colab_type": "text"
      },
      "source": [
        "<a href=\"https://colab.research.google.com/github/ramonVDAKKER/tutorial-AB-testing/blob/main/AB_testing_explained.ipynb\" target=\"_parent\"><img src=\"https://colab.research.google.com/assets/colab-badge.svg\" alt=\"Open In Colab\"/></a>"
      ]
    },
    {
      "cell_type": "markdown",
      "metadata": {
        "id": "0zZJbOiJ6bQf"
      },
      "source": [
        "# Inside the black box of A/B testing"
      ]
    },
    {
      "cell_type": "markdown",
      "metadata": {
        "id": "eMSSMY879Pi0"
      },
      "source": [
        "A/B testing basically compares two versions of an object in order to determine which one is best. The standard example is to develop two versions of a webpage and to direct a part of the users to site A and another part to site B. And a typical goal is to determine which option yields the best conversion.\n",
        "\n",
        "This notebook **aims to explain the statistical aspects of A/B testing**. The **distribution** of the test statistic under the **null** as well as under the **alternative hypothesis** will be discussed. As such, the **power** of the test is determined. Moreover, given specification of a test, including the required power, we will determine **how much observations are needed** to conduct a A/B test that meets the requirements. This will **explain the mechanics underlying the black box A/B sample size calculators**. Throughout, we will use **Monte Carlo simulations to illustrate the theoretical results**.\n",
        "\n",
        "*Prerequisites*: familiarity with basic probability theory and statistics inculding the Central Limit Theorem and hypothesis testing."
      ]
    },
    {
      "cell_type": "markdown",
      "metadata": {
        "id": "tE3qNMqPBMe7"
      },
      "source": [
        "## 1.1 Setup and notation\n",
        "\n",
        "Assume that there are two populations: population A and population B. From population A we receive a sample $X_1,\\dots,X_{n_A}$ of independent and identically distributed (i.i.d.) binary observations $X_1,\\dots,X_{n_A}$. We denote $p_A = \\mathbb{P}(X_i=1)=1-\\mathbb{P}(X_i=0)$.\n",
        "Similary, we assume that we receive i.i.d. observations $Y_1,\\dots,Y_{n_B}$ from population B and denote $p_B = \\mathbb{P}(Y_i=1)$. Moreover, it is assumed that the '$X$-sample' is independent of the '$Y$-sample'.\n",
        "\n",
        "We are interested in testing the null hypothesis $\\mathrm{H}_0:\\, p_A=p_B$ versus the alternative $\\mathrm{H}_a:\\, p_B > p_A$. Thinking of $p_A$ and $p_B$ as conversion rates for two competing features on, for example, a website, we thus want to test if option B is the better one.\n",
        "\n",
        "As usual, the idea behind constructing a test is to find an object that is 'close to 0' if the null hypothesis is true, and which deviates from 0 in case the alternative is true. So, for the above setup, it is natural to base a test statistic upon $\\hat{p}_B - \\hat{p}_A$. Next one often standardized the statistics in order to obtain a $N(0,1)$ distribution, by approximation, under the null hypothesis. This leads to the test statistic:\n",
        "$$t = \\frac{\\hat{p}_B - \\hat{p}_A}{\\sqrt{  \\hat{p}_B(1-\\hat{p}_B) /n_B + \\hat{p}_A(1-\\hat{p}_A)/n_A}},$$\n",
        "where $\\hat{p}_A = \\bar{X}_{n_A} = n^{-1} \\sum_{i=1}^{n_A} X_i$, i.e. the fraction of $X$-observations with $X_i=1$, and with $\\hat{p}_B$ defined in a similar fashion. Please noet that this is actually the two-sample t-test (with unequal variances) tailored for binary observations. \n",
        "\n",
        "The central limit theorem (and calculus rules for convergence in distribution) (indeed) imply that we have,\n",
        "for large values of $n_A$ and $n_B$ and under the null hypothesis $H_0$, $t\\stackrel{d}{\\approx} N(0,1)$. This leads to rejecting $H_0$ if and only if $t> \\Phi^{-1}(1-\\alpha)$, where $\\alpha$ denotes the significance level. For $\\alpha=5\\%$ we have $\\Phi^{-1}(1-\\alpha)\\approx 1.65$."
      ]
    },
    {
      "cell_type": "markdown",
      "metadata": {
        "id": "9RdVST-U6bQg"
      },
      "source": [
        "# 1.2. Imports"
      ]
    },
    {
      "cell_type": "code",
      "metadata": {
        "id": "PwliwHlq6bQh"
      },
      "source": [
        "import numpy as np\n",
        "from scipy.stats import bernoulli, norm, binom\n",
        "import matplotlib.pyplot as plt\n",
        "import seaborn as sns\n",
        "from scipy import stats\n",
        "import math\n",
        "from ipywidgets import widgets, fixed"
      ],
      "execution_count": 1,
      "outputs": []
    },
    {
      "cell_type": "markdown",
      "metadata": {
        "id": "4HUjWkKf6bQi"
      },
      "source": [
        "## 1.3 Implementation of the test statistic\n"
      ]
    },
    {
      "cell_type": "markdown",
      "metadata": {
        "id": "6puasPkVE2ha"
      },
      "source": [
        "Specify the significance level $\\alpha$ and the number of replications to be used in the Monte Carlo experiments (more is better, but slower)."
      ]
    },
    {
      "cell_type": "code",
      "metadata": {
        "id": "i2MywqeR6bQj"
      },
      "source": [
        "alpha = 0.05  # significance level\n",
        "num_replications = 25000  # no. of Monte Carlo replications to be used"
      ],
      "execution_count": 2,
      "outputs": []
    },
    {
      "cell_type": "markdown",
      "metadata": {
        "id": "3c0dQmHN6bQj"
      },
      "source": [
        "The following function implements the test statistic where we also allow for the boundary case in which $\\hat{p}_A(1-\\hat{p}_A)=\n",
        "\\hat{p}_B(1-\\hat{p}_B)=0$."
      ]
    },
    {
      "cell_type": "code",
      "metadata": {
        "id": "naORzGZ46bQk"
      },
      "source": [
        "def t_test(num_heads_A: int, n_A: int, num_heads_B: int, n_B: int, alpha:\n",
        "           float = .05) -> (float, bool):\n",
        "    \"\"\"\"On basis of the number of heads in X_1,...,X_{n_A} and Y_1,...,Y_{n_B}\n",
        "    and the significance level alpa, this function determines the realization\n",
        "    of the t-test (t) and the outcome (phi) of the test.\"\"\"\n",
        "    hat_p_A = num_heads_A / n_A\n",
        "    hat_p_B = num_heads_B / n_B\n",
        "    if max(hat_p_A, hat_p_B) < 1 and min(hat_p_A, hat_p_B) > 0:\n",
        "        t = (hat_p_B - hat_p_A) / np.sqrt(hat_p_A * (1 - hat_p_A) / n_A\n",
        "                                          + hat_p_B * (1 - hat_p_B) / n_B)\n",
        "    elif ((hat_p_A == 0) and (hat_p_B == 0)) or ((hat_p_A == 1) and\n",
        "                                                 (hat_p_B == 1)):\n",
        "        t = 0\n",
        "    elif hat_p_B == 1 and hat_p_A == 0:\n",
        "        t = np.inf\n",
        "    elif hat_p_A == 1 and hat_p_B == 0:\n",
        "        t = - np.inf\n",
        "    else:\n",
        "        t = 0\n",
        "    phi = (t >= norm.ppf(1 - alpha))\n",
        "    return t, phi"
      ],
      "execution_count": 3,
      "outputs": []
    },
    {
      "cell_type": "markdown",
      "metadata": {
        "id": "gNulK-tJEhOm"
      },
      "source": [
        "Example:\n"
      ]
    },
    {
      "cell_type": "code",
      "metadata": {
        "id": "P7wLAKrh6bQl",
        "colab": {
          "base_uri": "https://localhost:8080/"
        },
        "outputId": "26ff05a6-9c95-4353-b3a9-f3adead8a498"
      },
      "source": [
        "t_test(10, 50, 30, 40, alpha)"
      ],
      "execution_count": 4,
      "outputs": [
        {
          "output_type": "execute_result",
          "data": {
            "text/plain": [
              "(6.192884828895332, True)"
            ]
          },
          "metadata": {
            "tags": []
          },
          "execution_count": 4
        }
      ]
    },
    {
      "cell_type": "markdown",
      "metadata": {
        "id": "zp1Mb1Jh6bQo"
      },
      "source": [
        "The following function can be used to simulate datasets and the corresponding realizations of the test statistics. This will be used for the Monte Carlo illustrations."
      ]
    },
    {
      "cell_type": "code",
      "metadata": {
        "id": "WbhGizgh6bQo"
      },
      "source": [
        "def simulate_distribution(p_A: float, n_A: int, p_B: float, n_B: int, alpha:\n",
        "                          float, num_replications: int):\n",
        "    \"\"\"This function simulaties \\sum_{i=1}^{n_A} X_i and \\sum_{i=1}^{n_B} Y_i\n",
        "    using i.i.d. draws from a Bernoulli(p_A) and Bernoulli(p_B) distribution\n",
        "    respectively and calculates the outcome of the test. This process is\n",
        "    repeated num_replications times and alpha is used as significance level.\"\"\"\n",
        "    no_heads_A = binom.rvs(n_A, p_A, loc=0, size=num_replications)\n",
        "    no_heads_B = binom.rvs(n_B, p_B, loc=0, size=num_replications)\n",
        "    vectorized_t_test = np.vectorize(t_test)\n",
        "    t, phi = vectorized_t_test(no_heads_A, n_A, no_heads_B, n_B, alpha)\n",
        "    return t, phi"
      ],
      "execution_count": 5,
      "outputs": []
    },
    {
      "cell_type": "markdown",
      "metadata": {
        "id": "O3aJ5HgbFr5M"
      },
      "source": [
        "Example:"
      ]
    },
    {
      "cell_type": "code",
      "metadata": {
        "id": "Qxv45et_6bQp",
        "colab": {
          "base_uri": "https://localhost:8080/"
        },
        "outputId": "fdc81acf-303f-4dae-89c1-063d7d26a545"
      },
      "source": [
        "simulate_distribution(.2, 50, .3, 40, alpha, 10)"
      ],
      "execution_count": 6,
      "outputs": [
        {
          "output_type": "execute_result",
          "data": {
            "text/plain": [
              "(array([ 0.78628113,  1.83860709,  0.74953169, -0.45738935,  2.58454468,\n",
              "         0.2875392 ,  0.05041415,  1.03325807,  1.85340619,  0.80087654]),\n",
              " array([False,  True, False, False,  True, False, False, False,  True,\n",
              "        False]))"
            ]
          },
          "metadata": {
            "tags": []
          },
          "execution_count": 6
        }
      ]
    },
    {
      "cell_type": "markdown",
      "metadata": {
        "id": "ipD2CGgxF5z-"
      },
      "source": [
        "## 1.4 Distribution of the test statistic under the null hypothesis"
      ]
    },
    {
      "cell_type": "markdown",
      "metadata": {
        "id": "k9k8t15wGDtC"
      },
      "source": [
        "As indicated in Section 1.1, the test statistic $t$ is approximately $N(0,1)$ distributed for large $n_A$ and large $n_B$. Our choice for the critical value, i.e. $\\Phi^{-1}(1-\\alpha)$ is based upon this approximation.\n",
        "\n",
        "In this section we will assess the quality of the approximation. To this end, we introduce the following function that performs a Monte Carlo experiment.\n",
        "\n",
        "*Remark*: as we are dealing with binary data, we could also derive the exact distribitution. We do not pursue this over here, as we want to provide a setup that easily extends to situations in which the exact distribution is unknown and one cannot (easily) avoid relying on the approximating $N(0,1)$ distribution."
      ]
    },
    {
      "cell_type": "code",
      "metadata": {
        "id": "4Zd1dMIE6bQr"
      },
      "source": [
        "def null_distribution(n_A: int, n_B: int, p_A: float, alpha: float,\n",
        "                      num_replications: int):\n",
        "    \"\"\"This function determines an approximation to the exact finite-sample\n",
        "    distribution by means of Monte Carlo simulations and provides a comparison\n",
        "    to the limiting N(0,1) distribution.\"\"\"\n",
        "    p_B = p_A  # as they are equal under the null hypothesis\n",
        "    t, phi = simulate_distribution(p_A, n_A, p_B, n_B, alpha, num_replications)\n",
        "    fig, ax = plt.subplots(1, 1)\n",
        "    ax.set_title(f\"Distribution of $t$, on basis of {num_replications:,} \"\n",
        "                 + f\"Monte Carlo replications,\\n n_A={n_A}, n_B={n_B} and \"\n",
        "                 + f\"$p_A=p_B=${p_A:.2f} \"\n",
        "                 + \"versus the N(0, 1) distribution.\")\n",
        "    ax.set_ylim([0, .6])\n",
        "    ax.set_xlim([-4, 4])\n",
        "    x = np.linspace(-4, 4, 100)\n",
        "    y = stats.norm.pdf(x)\n",
        "    ax.plot(x, y, \"r\", lw=2)\n",
        "    sns.set_theme()\n",
        "    sns.histplot(t, stat=\"density\")\n",
        "    print(f\"The rejection probability is {np.mean(phi):.2f}. If the \"\n",
        "          + \"approximation\\nby the N(0,1) would be perfect and we would have no\"\n",
        "          + \" noise\\ndue to using Monte Carlo to approximate the finite-sample\"\n",
        "          + f\"\\ndistribution this probability would be equal to {alpha}.\")"
      ],
      "execution_count": 7,
      "outputs": []
    },
    {
      "cell_type": "markdown",
      "metadata": {
        "id": "reQk9JrMTQPY"
      },
      "source": [
        "The following widget can be used to analyze the impact of the sample sizes $n_A$ and $n_B$ and the probabilities $p_A=p_B$ on the quality of the approximation by the standard normal distribution.\n",
        "\n"
      ]
    },
    {
      "cell_type": "code",
      "metadata": {
        "id": "VnTSUb-p6bQr",
        "colab": {
          "base_uri": "https://localhost:8080/",
          "height": 483,
          "referenced_widgets": [
            "3d6ac198d7564e1cb76e69f2504bff3d",
            "4617e2064d0c4b8898fa351a8f755cb9",
            "b5ab9915180747f4aa340de8da7937dd",
            "0cdb5aa92fe04a019cd8da88cc4f997d",
            "d3d27870a20543b9956b1ba6ad98eba6",
            "9d9328cac765469bb4144913b9938f7e",
            "18effccf37e44fc4bafd7b5d948c7fea",
            "1850d47fdafc4ec492caff081c6ca4d7",
            "342219294abb4ca094d409fc7efb864b",
            "b1d480b3e78d441197fb39426f57b9b3",
            "78237d5d722748cea1ad3ec196104072",
            "ba89b3e839764c978458ee39889180ee",
            "d5ae6f36b8e9423c9c1d51611d206b8f"
          ]
        },
        "outputId": "0c6a39a2-efe1-46b0-fd04-b001b8292a4f"
      },
      "source": [
        " config_num_obs = [50, 100, 1000, 10000]\n",
        " config_null_prob = np.linspace(0.1, 0.9, 9)\n",
        " widgets.interact(null_distribution, n_A=config_num_obs, n_B=config_num_obs,\n",
        "                  p_A=config_null_prob, alpha=fixed(alpha),\n",
        "                  num_replications=fixed(num_replications))"
      ],
      "execution_count": 8,
      "outputs": [
        {
          "output_type": "display_data",
          "data": {
            "application/vnd.jupyter.widget-view+json": {
              "model_id": "3d6ac198d7564e1cb76e69f2504bff3d",
              "version_minor": 0,
              "version_major": 2
            },
            "text/plain": [
              "interactive(children=(Dropdown(description='n_A', options=(50, 100, 1000, 10000), value=50), Dropdown(descript…"
            ]
          },
          "metadata": {
            "tags": []
          }
        },
        {
          "output_type": "execute_result",
          "data": {
            "text/plain": [
              "<function __main__.null_distribution>"
            ]
          },
          "metadata": {
            "tags": []
          },
          "execution_count": 8
        }
      ]
    },
    {
      "cell_type": "markdown",
      "metadata": {
        "id": "posBTaA66bQs"
      },
      "source": [
        "## 2. Distribution under the alternative and power of the test"
      ]
    },
    {
      "cell_type": "markdown",
      "metadata": {
        "id": "ZKtV1jukVGAO"
      },
      "source": [
        "Recall that the power of a test is defined as the probability that it rejects the null hypothesis.\n",
        "So under the null hypothesis the power should be close to $\\alpha$ (by construction, see Section 1.4) and under the alternative\n",
        "hypothesis we would like to have a power that is close to 1. \n",
        "\n",
        "In this section we derive a formula for the power of $t$. To facilitate this discussion we assume that $n_A =\\operatorname{round} (\\lambda n) $ and\n",
        "$n_B = n- n_A$ where $\\lambda \\in (0,1)$. In words: $n$ is the total number of observations we can collect\n",
        "and $\\lambda$ is the fraction of observations that comes from population A.\n",
        "\n",
        "In the previous section we already derived the distribution of $t$ under the null hypothesis. Now we focus on the distribution under the alternative hypothesis.\n",
        "If $p_B > p_A$, the Central Limit Theorem (though a non-standard one) and related calculus rules imply that, for large \n",
        "$n$,\n",
        "\\begin{align*}\n",
        "t &= \n",
        " \\frac{\\hat{p}_B - p_B  - (\\hat{p}_A - p_A)}{\\sqrt{  \\hat{p}_B(1-\\hat{p}_B) /n_B + \\hat{p}_A(1-\\hat{p}_A)/n_A}}\n",
        "+ \\frac{p_B - p_A  }{\\sqrt{  \\hat{p}_B(1-\\hat{p}_B) /n_B + \\hat{p}_A(1-\\hat{p}_A)/n_A}} \\\\\n",
        "&\\stackrel{d}{\\approx} \n",
        "N(0, 1) + \n",
        "\\frac{p_B - p_A  }{\\sqrt{ \\frac{  p_B(1-p_B) }{ (1-\\lambda) n}  + \\frac{ p_A(1-p_A)}{  \\lambda n}}}.\n",
        "\\end{align*}\n",
        "Observe that under the alternative hypothesis, i.e. $p_B>p_A$, the second term in the previous display yields a shift to the right which leads to a higher rejection probability. Moreover, if $n$ increases\n",
        "this term tends to $\\infty$ which would mean that the test would (indeed) make the correct decision.\n",
        "These observations can also be seen from the power function:\n",
        "\n",
        "$$\n",
        "\\text{power}=\\mathbb{P}(\\text{reject } H_0) \n",
        "= \\mathbb{P} (  t > \\Phi^{-1}(1-\\alpha) )  \n",
        "\\approx \n",
        "1 - \\Phi\\left(\n",
        "\\Phi^{-1}(1-\\alpha) - \n",
        "\\frac{p_B - p_A  }{\\sqrt{ \\frac{  p_B(1-p_B) }{ (1-\\lambda) n}  + \\frac{ p_A(1-p_A)}{  \\lambda n}}}\n",
        "\\right).\n",
        "$$"
      ]
    },
    {
      "cell_type": "markdown",
      "metadata": {
        "id": "BPSFHFmxWVws"
      },
      "source": [
        "The following widget can be used to illustrate how the distribitution of $t$ and the approximation by the shifted normal distribution look like under the alternative. Moreover, the power (on basis of Monte Carlo replications as well as on basis of the normal approximation) is computed."
      ]
    },
    {
      "cell_type": "code",
      "metadata": {
        "id": "C7S9r_am6bQu"
      },
      "source": [
        "def MC_power(n: int, fraction_A: float, p_A: float, p_B: float, alpha: float,\n",
        "             num_replications: int):\n",
        "    \"\"\"\"This functions illustrates the power, using Monte Carlo simulations,\n",
        "    and presents the distribution of the test statistic as well as its\n",
        "    asymptotic approximation.\"\"\"\n",
        "    n_A = np.int(fraction_A * n)\n",
        "    n_B = n - n_A\n",
        "    t, phi = simulate_distribution(p_A, n_A, p_B, n_B, alpha, num_replications)\n",
        "    fig, ax = plt.subplots(1, 1)\n",
        "    ax.set_title(f\"Distribution of $t$, on basis of {num_replications:,} \"\n",
        "                 + f\"Monte Carlo replications, p_A={p_A:.2f},\\n p_B={p_B:.2f},\"\n",
        "                 + f\" n={n}, and lambda={fraction_A}, its normal approximation \"\n",
        "                 + \"(blue)\\nand the (approximating) distribution under the \"\n",
        "                 + \"null (in red).\")\n",
        "    ax.set_ylim([0, .6])\n",
        "    x = np.linspace(-4, 8, 100)\n",
        "    y = stats.norm.pdf(x)\n",
        "    ax.plot(x, y, \"r\", lw=2)  # approximating distribution under null\n",
        "    sns.histplot(t, stat=\"density\")\n",
        "    h = np.sqrt(n) * (p_B - p_A)  # parameter for local asymptotics\n",
        "    mean_local_alternative = h / np.sqrt(p_A * (1 - p_A) / fraction_A\n",
        "                                         + p_B * (1 - p_B) / (1 - fraction_A))\n",
        "    x = np.linspace(-4, 4 + mean_local_alternative, 100)\n",
        "    y = stats.norm.pdf(x, loc=mean_local_alternative, scale=1)\n",
        "    ax.plot(x, y, \"b\", lw=2)\n",
        "    plt.fill_between(x[x > norm.ppf(1 - alpha)],\n",
        "                     norm.pdf(x[x > norm.ppf(1 - alpha)],\n",
        "                              loc=mean_local_alternative))\n",
        "    p = 1 - norm.cdf(norm.ppf(1 - alpha), loc=mean_local_alternative, scale=1)\n",
        "\n",
        "\n",
        "def MC_power_aux(n: int, fraction_A, p_A, p_B):\n",
        "    return MC_power(n, fraction_A, p_A, p_B, alpha, num_replications)"
      ],
      "execution_count": 9,
      "outputs": []
    },
    {
      "cell_type": "code",
      "metadata": {
        "id": "vSghf-x36bQz",
        "colab": {
          "base_uri": "https://localhost:8080/",
          "height": 463,
          "referenced_widgets": [
            "bd0913581a7c401b825ed4eb27bd821f",
            "c4c13901c0254c898dc9159906402d67",
            "97bac34fd09a41389a1c01e3638df7b5",
            "9d947afb51784df0b2982967301315bf",
            "1cae17040a794b2f9f9672c77c6be11d",
            "bda78f3a87cf4481b2fccfb01365ec40",
            "f8d32f4757a1402eb41aa764e558b21e",
            "5eac7768e72c4628b280b0fdb41dbdca",
            "9b34a5e45c124f44a1a43f7a0641e573",
            "acfad3d82ef043f49c71103ac72995f7",
            "e552942126744786b66ba1b61821fd66",
            "ace5441eb1f54be78b4c228273c29af6",
            "ba806c53bb49492394ba111506994d75",
            "44db1558d9d24d83ab1ea98dc3c0d952",
            "fd5cd608ff91487d8b53bea2e45d978b",
            "5e3babe7834f4bf09f102bd46f371d89"
          ]
        },
        "outputId": "cba6c134-386d-4274-89c8-7ad53595b93a"
      },
      "source": [
        "config_num_obs = [200, 1000, 2000, 20000]\n",
        "config_lambda = np.linspace(.1, .9, 5)\n",
        "config_prob = np.linspace(0.1, 0.9, 9)\n",
        "widgets.interact(MC_power_aux, n=config_num_obs, fraction_A=config_lambda,\n",
        "                 p_A=config_prob, p_B=config_prob)"
      ],
      "execution_count": 10,
      "outputs": [
        {
          "output_type": "display_data",
          "data": {
            "application/vnd.jupyter.widget-view+json": {
              "model_id": "bd0913581a7c401b825ed4eb27bd821f",
              "version_minor": 0,
              "version_major": 2
            },
            "text/plain": [
              "interactive(children=(Dropdown(description='n', options=(200, 1000, 2000, 20000), value=200), Dropdown(descrip…"
            ]
          },
          "metadata": {
            "tags": []
          }
        },
        {
          "output_type": "execute_result",
          "data": {
            "text/plain": [
              "<function __main__.MC_power_aux>"
            ]
          },
          "metadata": {
            "tags": []
          },
          "execution_count": 10
        }
      ]
    },
    {
      "cell_type": "markdown",
      "metadata": {
        "id": "H7EFm6DHpt0g"
      },
      "source": [
        "In case you are only interested in the power you can use the following functions."
      ]
    },
    {
      "cell_type": "code",
      "metadata": {
        "id": "SdeeJ7Ut6bQ0"
      },
      "source": [
        "def power_on_basis_of_MC(n: int, fraction_A: float, p_A: float, p_B: float,\n",
        "                         alpha: float, num_replications: int):\n",
        "    \"This functions calculates the power, using Monte Carlo simulations\"\n",
        "    n_A = np.int(fraction_A * n)\n",
        "    n_B = n - n_A\n",
        "    _, phi = simulate_distribution(p_A, n_A, p_B, n_B, alpha, num_replications)\n",
        "    return np.mean(phi)\n",
        "\n",
        "\n",
        "def power_on_basis_of_aa(n: int, fraction_A: float, p_A: float, p_B: float,\n",
        "                         alpha: float):\n",
        "    \"This functions calculates the power, using the asymptotic approximation\"\n",
        "    n_A = np.int(fraction_A * n)\n",
        "    n_B = n - n_A\n",
        "    h = np.sqrt(n) * (p_B - p_A)  # parameter for local asymptotics\n",
        "    mean_local_alternative = h / np.sqrt(p_A * (1 - p_A) / fraction_A\n",
        "                                         + p_B * (1 - p_B) / (1 - fraction_A))\n",
        "    p = 1 - norm.cdf(norm.ppf(1 - alpha), loc=mean_local_alternative, scale=1)\n",
        "    return p"
      ],
      "execution_count": 11,
      "outputs": []
    },
    {
      "cell_type": "markdown",
      "metadata": {
        "id": "zS8hI9zDqNsf"
      },
      "source": [
        "Example:"
      ]
    },
    {
      "cell_type": "code",
      "metadata": {
        "id": "QRLgi-HH6bQ0",
        "colab": {
          "base_uri": "https://localhost:8080/"
        },
        "outputId": "9dd63e73-0d75-4593-eab0-c76283cb3e5e"
      },
      "source": [
        "n = 1000\n",
        "fraction_A = .5\n",
        "p_A = .2\n",
        "p_B = .23\n",
        "p = power_on_basis_of_MC(n, fraction_A, p_A, p_B, alpha, num_replications)\n",
        "print(f\"The power on basis of MC simulations is {p:.2f}.\")\n",
        "p = power_on_basis_of_aa(n, fraction_A, p_A, p_B, alpha)\n",
        "print(f\"The power on basis of asymptotic approximation is {p:2f}.\")"
      ],
      "execution_count": 12,
      "outputs": [
        {
          "output_type": "stream",
          "text": [
            "The power on basis of MC simulations is 0.31.\n",
            "The power on basis of asymptotic approximation is 0.312255.\n"
          ],
          "name": "stdout"
        }
      ]
    },
    {
      "cell_type": "markdown",
      "metadata": {
        "id": "LhVb8YZ26bQ1"
      },
      "source": [
        "## Determine the required sample size"
      ]
    },
    {
      "cell_type": "markdown",
      "metadata": {
        "id": "l2J_H24ksiHl"
      },
      "source": [
        "When you set up an A/B test yourself, you obviously would like to know how large $n$ should be in order to make an informed decision. In this section we derive a formula for $n$.\n",
        "\n",
        "To this end you need to specify (perceived) values for $p_A$ and $p_B$. For example, $p_A=20\\%$ and $p_B=23\\%$.\n",
        "If A represents the current situation then you typically indeed have an idea about $p_A$. The value for $p_B$ that you would like to detect could, for example, come from a business case: B would be favorable to A if B has a conversion rate that is 3\\%-points higher.\n",
        "Moreover, you need to specify with what power you want to detect the alternative hypothesis in case it is true. If you would set this power equal to 80\\%, then the probability of not rejecting $H_0$ while in fact $p_B>p_A$ would be equal to 20%.\n",
        "\n",
        "Denoting the desired power by $\\theta$ we obtain \n",
        "$$\n",
        "\\Phi^{-1}(1- \\theta) = \\Phi^{-1}(1-\\alpha) \n",
        "- \n",
        "\\frac{p_B - p_A  }{\\sqrt{ \\frac{  p_B(1-p_B) }{ (1-\\lambda)n }  + \\frac{ p_A(1-p_A)}{  \\lambda n }}},\n",
        "$$\n",
        "which yields\n",
        "$$\n",
        "n = \\operatorname{ceil}\\left[\n",
        "\\frac{\\left(\n",
        "\\Phi^{-1}(1-\\alpha) - \n",
        "\\Phi^{-1}(1-\\theta)\\right)^2}{(p_B - p_A)^2}  \n",
        "\\left( \\frac{  p_B(1-p_B) }{ (1-\\lambda) }  + \\frac{ p_A(1-p_A)}{  \\lambda }\\right)\n",
        "\\right].\n",
        "$$\n",
        "\n",
        "As an illustration we will apply \n",
        "this formula for the case $p_A=20\\%$, $p_B=23\\%$, $\\lambda=.5$, $\\alpha=.05$, and\n",
        "$\\theta=.8$, yielding $n=4632$. "
      ]
    },
    {
      "cell_type": "code",
      "metadata": {
        "id": "yg9-wzhJ6bQ_",
        "colab": {
          "base_uri": "https://localhost:8080/"
        },
        "outputId": "607e4836-8e90-455d-8b27-0e0b2bc90d4c"
      },
      "source": [
        "def required_total_sample_size(fraction_A: float, p_A: float, p_B: float,\n",
        "                               desired_power: float, alpha:\n",
        "                               float = .05) -> int:\n",
        "    \"\"\"\"This functions determines the sample size n that one needs to achieve\n",
        "    desired_power as power. Note that p_B > p_A is required.\"\"\"\n",
        "    term_1 = norm.ppf(1 - alpha) - norm.ppf(1 - desired_power)\n",
        "    term_2 = np.sqrt(p_A * (1 - p_A) / fraction_A\n",
        "                     + p_B * (1 - p_B) / (1 - fraction_A)) / (p_B - p_A)\n",
        "    n = int(np.ceil(math.pow(term_1 * term_2, 2)))\n",
        "    print(f\"Consider a one-sided level alpha={alpha} test with \"\n",
        "          + f\"{100*fraction_A}% of the total no. of observations belonging to \"\n",
        "          + f\"group A. Then we need {n} observations to detect alternative \"\n",
        "          + f\"p_B={p_B} against null p_A=p_B, with p_A={p_A}, with \"\n",
        "          + f\"power={desired_power}.\")\n",
        "    return n\n",
        "\n",
        "\n",
        "required_total_sample_size(.5, .2, .23, .8, alpha)"
      ],
      "execution_count": 13,
      "outputs": [
        {
          "output_type": "stream",
          "text": [
            "Consider a one-sided level alpha=0.05 test with 50.0% of the total no. of observations belonging to group A. Then we need 4632 observations to detect alternative p_B=0.23 against null p_A=p_B, with p_A=0.2, with power=0.8.\n"
          ],
          "name": "stdout"
        },
        {
          "output_type": "execute_result",
          "data": {
            "text/plain": [
              "4632"
            ]
          },
          "metadata": {
            "tags": []
          },
          "execution_count": 13
        }
      ]
    },
    {
      "cell_type": "code",
      "metadata": {
        "id": "5khqRjD96bQ_",
        "colab": {
          "base_uri": "https://localhost:8080/"
        },
        "outputId": "bde2d1a3-b4a4-4002-ff1b-a9fec8f74405"
      },
      "source": [
        "# Example:\n",
        "fraction_A = .5\n",
        "p_A = .2\n",
        "p_B = .23\n",
        "power_detecting_min_p_B = .80  # required powe to detect alternative p_B\n",
        "alpha = .05  # asymptotic size of test\n",
        "n_req = required_total_sample_size(fraction_A, p_A, p_B,\n",
        "                                   power_detecting_min_p_B, alpha)"
      ],
      "execution_count": 14,
      "outputs": [
        {
          "output_type": "stream",
          "text": [
            "Consider a one-sided level alpha=0.05 test with 50.0% of the total no. of observations belonging to group A. Then we need 4632 observations to detect alternative p_B=0.23 against null p_A=p_B, with p_A=0.2, with power=0.8.\n"
          ],
          "name": "stdout"
        }
      ]
    },
    {
      "cell_type": "markdown",
      "metadata": {
        "id": "86R88eLI6bRA"
      },
      "source": [
        "To corroborate this result we generate 100,000 Monte Carlo replications, using the specified parameters. On basis of the 100,000 realization of the test, we indeed observe approximately 80\\% as power."
      ]
    },
    {
      "cell_type": "code",
      "metadata": {
        "id": "odqTX9Cd6bRB",
        "colab": {
          "base_uri": "https://localhost:8080/",
          "height": 335
        },
        "outputId": "e804cbd5-0bd3-4386-be3d-bee1fb283197"
      },
      "source": [
        "p = power_on_basis_of_MC(n_req, fraction_A, p_A, p_B, alpha, num_replications)\n",
        "print(f\"The power on basis of MC simulations is {p:.2f}.\")\n",
        "MC_power(n_req, fraction_A, p_A, p_B, alpha, num_replications)"
      ],
      "execution_count": 16,
      "outputs": [
        {
          "output_type": "stream",
          "text": [
            "The power on basis of MC simulations is 0.80.\n"
          ],
          "name": "stdout"
        },
        {
          "output_type": "display_data",
          "data": {
            "image/png": "[encoded data removed]",
            "text/plain": [
              "<Figure size 432x288 with 1 Axes>"
            ]
          },
          "metadata": {
            "tags": []
          }
        }
      ]
    }
  ]
}