{
  "nbformat": 4,
  "nbformat_minor": 0,
  "metadata": {
    "kernelspec": {
      "name": "python3",
      "display_name": "Python 3"
    },
    "colab": {
      "name": "Copy of Copy of AB_testing_explained.ipynb",
      "provenance": [],
      "include_colab_link": true
    },
    "language_info": {
      "name": "python"
    },
    "widgets": {
      "application/vnd.jupyter.widget-state+json": {
        "a3cb0d5265054dbe996f5bf7b80246b9": {
          "model_module": "@jupyter-widgets/controls",
          "model_name": "VBoxModel",
          "state": {
            "_view_name": "VBoxView",
            "_dom_classes": [
              "widget-interact"
            ],
            "_model_name": "VBoxModel",
            "_view_module": "@jupyter-widgets/controls",
            "_model_module_version": "1.5.0",
            "_view_count": null,
            "_view_module_version": "1.5.0",
            "box_style": "",
            "layout": "IPY_MODEL_efadc88e42bb4fbeb8dea44a960ea577",
            "_model_module": "@jupyter-widgets/controls",
            "children": [
              "IPY_MODEL_2109f5aacc1b46ffa8a53cd79c90fa6a",
              "IPY_MODEL_5e4e7d4987374b89bbac504d456b819a",
              "IPY_MODEL_aa48e1d5da0d490f825099d0d3b73889",
              "IPY_MODEL_5c196f9502e841f0bb1e70b48d9a9637"
            ]
          }
        },
        "efadc88e42bb4fbeb8dea44a960ea577": {
          "model_module": "@jupyter-widgets/base",
          "model_name": "LayoutModel",
          "state": {
            "_view_name": "LayoutView",
            "grid_template_rows": null,
            "right": null,
            "justify_content": null,
            "_view_module": "@jupyter-widgets/base",
            "overflow": null,
            "_model_module_version": "1.2.0",
            "_view_count": null,
            "flex_flow": null,
            "width": null,
            "min_width": null,
            "border": null,
            "align_items": null,
            "bottom": null,
            "_model_module": "@jupyter-widgets/base",
            "top": null,
            "grid_column": null,
            "overflow_y": null,
            "overflow_x": null,
            "grid_auto_flow": null,
            "grid_area": null,
            "grid_template_columns": null,
            "flex": null,
            "_model_name": "LayoutModel",
            "justify_items": null,
            "grid_row": null,
            "max_height": null,
            "align_content": null,
            "visibility": null,
            "align_self": null,
            "height": null,
            "min_height": null,
            "padding": null,
            "grid_auto_rows": null,
            "grid_gap": null,
            "max_width": null,
            "order": null,
            "_view_module_version": "1.2.0",
            "grid_template_areas": null,
            "object_position": null,
            "object_fit": null,
            "grid_auto_columns": null,
            "margin": null,
            "display": null,
            "left": null
          }
        },
        "2109f5aacc1b46ffa8a53cd79c90fa6a": {
          "model_module": "@jupyter-widgets/controls",
          "model_name": "DropdownModel",
          "state": {
            "_options_labels": [
              "50",
              "100",
              "1000",
              "10000"
            ],
            "_view_name": "DropdownView",
            "style": "IPY_MODEL_6807d0e492194b8fb8568ace34dec308",
            "_dom_classes": [],
            "description": "n_A",
            "_model_name": "DropdownModel",
            "index": 3,
            "_view_module": "@jupyter-widgets/controls",
            "_model_module_version": "1.5.0",
            "_view_count": null,
            "disabled": false,
            "_view_module_version": "1.5.0",
            "description_tooltip": null,
            "_model_module": "@jupyter-widgets/controls",
            "layout": "IPY_MODEL_9f3373c25a4f4c18b25f9b077f27030a"
          }
        },
        "5e4e7d4987374b89bbac504d456b819a": {
          "model_module": "@jupyter-widgets/controls",
          "model_name": "DropdownModel",
          "state": {
            "_options_labels": [
              "50",
              "100",
              "1000",
              "10000"
            ],
            "_view_name": "DropdownView",
            "style": "IPY_MODEL_7b5149c6574e4b1b9c44dd823b0cac37",
            "_dom_classes": [],
            "description": "n_B",
            "_model_name": "DropdownModel",
            "index": 3,
            "_view_module": "@jupyter-widgets/controls",
            "_model_module_version": "1.5.0",
            "_view_count": null,
            "disabled": false,
            "_view_module_version": "1.5.0",
            "description_tooltip": null,
            "_model_module": "@jupyter-widgets/controls",
            "layout": "IPY_MODEL_6200d4e477a34cb597266242a2c515cc"
          }
        },
        "aa48e1d5da0d490f825099d0d3b73889": {
          "model_module": "@jupyter-widgets/controls",
          "model_name": "DropdownModel",
          "state": {
            "_options_labels": [
              "0.1",
              "0.2",
              "0.30000000000000004",
              "0.4",
              "0.5",
              "0.6",
              "0.7000000000000001",
              "0.8",
              "0.9"
            ],
            "_view_name": "DropdownView",
            "style": "IPY_MODEL_ca31a0a556b3426091512a108f203ef3",
            "_dom_classes": [],
            "description": "p_A",
            "_model_name": "DropdownModel",
            "index": 4,
            "_view_module": "@jupyter-widgets/controls",
            "_model_module_version": "1.5.0",
            "_view_count": null,
            "disabled": false,
            "_view_module_version": "1.5.0",
            "description_tooltip": null,
            "_model_module": "@jupyter-widgets/controls",
            "layout": "IPY_MODEL_4fa26ba8ffa14ec8afee772351b777ed"
          }
        },
        "5c196f9502e841f0bb1e70b48d9a9637": {
          "model_module": "@jupyter-widgets/output",
          "model_name": "OutputModel",
          "state": {
            "_view_name": "OutputView",
            "msg_id": "",
            "_dom_classes": [],
            "_model_name": "OutputModel",
            "outputs": [
              {
                "output_type": "stream",
                "metadata": {
                  "tags": []
                },
                "text": "The rejection probability is 0.05. If the approximation\nby the N(0,1) would be perfect and we would have no noise\ndue to using Monte Carlo to approximate the finite-sample\ndistribution this probability would be equal to 0.05.\n",
                "stream": "stdout"
              },
              {
                "output_type": "display_data",
                "metadata": {
                  "tags": []
                },
                "image/png": "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\n",
                "text/plain": "<Figure size 432x288 with 1 Axes>"
              }
            ],
            "_view_module": "@jupyter-widgets/output",
            "_model_module_version": "1.0.0",
            "_view_count": null,
            "_view_module_version": "1.0.0",
            "layout": "IPY_MODEL_641a3e834cd84fd480329424ef0b066a",
            "_model_module": "@jupyter-widgets/output"
          }
        },
        "6807d0e492194b8fb8568ace34dec308": {
          "model_module": "@jupyter-widgets/controls",
          "model_name": "DescriptionStyleModel",
          "state": {
            "_view_name": "StyleView",
            "_model_name": "DescriptionStyleModel",
            "description_width": "",
            "_view_module": "@jupyter-widgets/base",
            "_model_module_version": "1.5.0",
            "_view_count": null,
            "_view_module_version": "1.2.0",
            "_model_module": "@jupyter-widgets/controls"
          }
        },
        "9f3373c25a4f4c18b25f9b077f27030a": {
          "model_module": "@jupyter-widgets/base",
          "model_name": "LayoutModel",
          "state": {
            "_view_name": "LayoutView",
            "grid_template_rows": null,
            "right": null,
            "justify_content": null,
            "_view_module": "@jupyter-widgets/base",
            "overflow": null,
            "_model_module_version": "1.2.0",
            "_view_count": null,
            "flex_flow": null,
            "width": null,
            "min_width": null,
            "border": null,
            "align_items": null,
            "bottom": null,
            "_model_module": "@jupyter-widgets/base",
            "top": null,
            "grid_column": null,
            "overflow_y": null,
            "overflow_x": null,
            "grid_auto_flow": null,
            "grid_area": null,
            "grid_template_columns": null,
            "flex": null,
            "_model_name": "LayoutModel",
            "justify_items": null,
            "grid_row": null,
            "max_height": null,
            "align_content": null,
            "visibility": null,
            "align_self": null,
            "height": null,
            "min_height": null,
            "padding": null,
            "grid_auto_rows": null,
            "grid_gap": null,
            "max_width": null,
            "order": null,
            "_view_module_version": "1.2.0",
            "grid_template_areas": null,
            "object_position": null,
            "object_fit": null,
            "grid_auto_columns": null,
            "margin": null,
            "display": null,
            "left": null
          }
        },
        "7b5149c6574e4b1b9c44dd823b0cac37": {
          "model_module": "@jupyter-widgets/controls",
          "model_name": "DescriptionStyleModel",
          "state": {
            "_view_name": "StyleView",
            "_model_name": "DescriptionStyleModel",
            "description_width": "",
            "_view_module": "@jupyter-widgets/base",
            "_model_module_version": "1.5.0",
            "_view_count": null,
            "_view_module_version": "1.2.0",
            "_model_module": "@jupyter-widgets/controls"
          }
        },
        "6200d4e477a34cb597266242a2c515cc": {
          "model_module": "@jupyter-widgets/base",
          "model_name": "LayoutModel",
          "state": {
            "_view_name": "LayoutView",
            "grid_template_rows": null,
            "right": null,
            "justify_content": null,
            "_view_module": "@jupyter-widgets/base",
            "overflow": null,
            "_model_module_version": "1.2.0",
            "_view_count": null,
            "flex_flow": null,
            "width": null,
            "min_width": null,
            "border": null,
            "align_items": null,
            "bottom": null,
            "_model_module": "@jupyter-widgets/base",
            "top": null,
            "grid_column": null,
            "overflow_y": null,
            "overflow_x": null,
            "grid_auto_flow": null,
            "grid_area": null,
            "grid_template_columns": null,
            "flex": null,
            "_model_name": "LayoutModel",
            "justify_items": null,
            "grid_row": null,
            "max_height": null,
            "align_content": null,
            "visibility": null,
            "align_self": null,
            "height": null,
            "min_height": null,
            "padding": null,
            "grid_auto_rows": null,
            "grid_gap": null,
            "max_width": null,
            "order": null,
            "_view_module_version": "1.2.0",
            "grid_template_areas": null,
            "object_position": null,
            "object_fit": null,
            "grid_auto_columns": null,
            "margin": null,
            "display": null,
            "left": null
          }
        },
        "ca31a0a556b3426091512a108f203ef3": {
          "model_module": "@jupyter-widgets/controls",
          "model_name": "DescriptionStyleModel",
          "state": {
            "_view_name": "StyleView",
            "_model_name": "DescriptionStyleModel",
            "description_width": "",
            "_view_module": "@jupyter-widgets/base",
            "_model_module_version": "1.5.0",
            "_view_count": null,
            "_view_module_version": "1.2.0",
            "_model_module": "@jupyter-widgets/controls"
          }
        },
        "4fa26ba8ffa14ec8afee772351b777ed": {
          "model_module": "@jupyter-widgets/base",
          "model_name": "LayoutModel",
          "state": {
            "_view_name": "LayoutView",
            "grid_template_rows": null,
            "right": null,
            "justify_content": null,
            "_view_module": "@jupyter-widgets/base",
            "overflow": null,
            "_model_module_version": "1.2.0",
            "_view_count": null,
            "flex_flow": null,
            "width": null,
            "min_width": null,
            "border": null,
            "align_items": null,
            "bottom": null,
            "_model_module": "@jupyter-widgets/base",
            "top": null,
            "grid_column": null,
            "overflow_y": null,
            "overflow_x": null,
            "grid_auto_flow": null,
            "grid_area": null,
            "grid_template_columns": null,
            "flex": null,
            "_model_name": "LayoutModel",
            "justify_items": null,
            "grid_row": null,
            "max_height": null,
            "align_content": null,
            "visibility": null,
            "align_self": null,
            "height": null,
            "min_height": null,
            "padding": null,
            "grid_auto_rows": null,
            "grid_gap": null,
            "max_width": null,
            "order": null,
            "_view_module_version": "1.2.0",
            "grid_template_areas": null,
            "object_position": null,
            "object_fit": null,
            "grid_auto_columns": null,
            "margin": null,
            "display": null,
            "left": null
          }
        },
        "641a3e834cd84fd480329424ef0b066a": {
          "model_module": "@jupyter-widgets/base",
          "model_name": "LayoutModel",
          "state": {
            "_view_name": "LayoutView",
            "grid_template_rows": null,
            "right": null,
            "justify_content": null,
            "_view_module": "@jupyter-widgets/base",
            "overflow": null,
            "_model_module_version": "1.2.0",
            "_view_count": null,
            "flex_flow": null,
            "width": null,
            "min_width": null,
            "border": null,
            "align_items": null,
            "bottom": null,
            "_model_module": "@jupyter-widgets/base",
            "top": null,
            "grid_column": null,
            "overflow_y": null,
            "overflow_x": null,
            "grid_auto_flow": null,
            "grid_area": null,
            "grid_template_columns": null,
            "flex": null,
            "_model_name": "LayoutModel",
            "justify_items": null,
            "grid_row": null,
            "max_height": null,
            "align_content": null,
            "visibility": null,
            "align_self": null,
            "height": null,
            "min_height": null,
            "padding": null,
            "grid_auto_rows": null,
            "grid_gap": null,
            "max_width": null,
            "order": null,
            "_view_module_version": "1.2.0",
            "grid_template_areas": null,
            "object_position": null,
            "object_fit": null,
            "grid_auto_columns": null,
            "margin": null,
            "display": null,
            "left": null
          }
        },
        "d9f759a4344f4132816a2c00b45b5419": {
          "model_module": "@jupyter-widgets/controls",
          "model_name": "VBoxModel",
          "state": {
            "_view_name": "VBoxView",
            "_dom_classes": [
              "widget-interact"
            ],
            "_model_name": "VBoxModel",
            "_view_module": "@jupyter-widgets/controls",
            "_model_module_version": "1.5.0",
            "_view_count": null,
            "_view_module_version": "1.5.0",
            "box_style": "",
            "layout": "IPY_MODEL_fca28876369c46ca893fcb891f0005dc",
            "_model_module": "@jupyter-widgets/controls",
            "children": [
              "IPY_MODEL_f7ed03816cce4fb493c72667e91a4fc8",
              "IPY_MODEL_c7e9a1595aed4455bab9fa5b1a080d7c",
              "IPY_MODEL_6359bb91e7e04fba9250840f298d4303",
              "IPY_MODEL_878062348b8f479d89c545b20586cce4",
              "IPY_MODEL_0f54b7dc64704f80afbc6e2bc4004284"
            ]
          }
        },
        "fca28876369c46ca893fcb891f0005dc": {
          "model_module": "@jupyter-widgets/base",
          "model_name": "LayoutModel",
          "state": {
            "_view_name": "LayoutView",
            "grid_template_rows": null,
            "right": null,
            "justify_content": null,
            "_view_module": "@jupyter-widgets/base",
            "overflow": null,
            "_model_module_version": "1.2.0",
            "_view_count": null,
            "flex_flow": null,
            "width": null,
            "min_width": null,
            "border": null,
            "align_items": null,
            "bottom": null,
            "_model_module": "@jupyter-widgets/base",
            "top": null,
            "grid_column": null,
            "overflow_y": null,
            "overflow_x": null,
            "grid_auto_flow": null,
            "grid_area": null,
            "grid_template_columns": null,
            "flex": null,
            "_model_name": "LayoutModel",
            "justify_items": null,
            "grid_row": null,
            "max_height": null,
            "align_content": null,
            "visibility": null,
            "align_self": null,
            "height": null,
            "min_height": null,
            "padding": null,
            "grid_auto_rows": null,
            "grid_gap": null,
            "max_width": null,
            "order": null,
            "_view_module_version": "1.2.0",
            "grid_template_areas": null,
            "object_position": null,
            "object_fit": null,
            "grid_auto_columns": null,
            "margin": null,
            "display": null,
            "left": null
          }
        },
        "f7ed03816cce4fb493c72667e91a4fc8": {
          "model_module": "@jupyter-widgets/controls",
          "model_name": "DropdownModel",
          "state": {
            "_options_labels": [
              "200",
              "1000",
              "2000",
              "20000"
            ],
            "_view_name": "DropdownView",
            "style": "IPY_MODEL_042ba67ee1564870a4559f49a3a01e69",
            "_dom_classes": [],
            "description": "n",
            "_model_name": "DropdownModel",
            "index": 1,
            "_view_module": "@jupyter-widgets/controls",
            "_model_module_version": "1.5.0",
            "_view_count": null,
            "disabled": false,
            "_view_module_version": "1.5.0",
            "description_tooltip": null,
            "_model_module": "@jupyter-widgets/controls",
            "layout": "IPY_MODEL_c4c31415ddcd45fa95c73318bca72246"
          }
        },
        "c7e9a1595aed4455bab9fa5b1a080d7c": {
          "model_module": "@jupyter-widgets/controls",
          "model_name": "DropdownModel",
          "state": {
            "_options_labels": [
              "0.1",
              "0.30000000000000004",
              "0.5",
              "0.7000000000000001",
              "0.9"
            ],
            "_view_name": "DropdownView",
            "style": "IPY_MODEL_8552d59645e2448aa8f7581b9a6ded0d",
            "_dom_classes": [],
            "description": "fraction_A",
            "_model_name": "DropdownModel",
            "index": 2,
            "_view_module": "@jupyter-widgets/controls",
            "_model_module_version": "1.5.0",
            "_view_count": null,
            "disabled": false,
            "_view_module_version": "1.5.0",
            "description_tooltip": null,
            "_model_module": "@jupyter-widgets/controls",
            "layout": "IPY_MODEL_d9453c2630a14c11b18bec32b7012190"
          }
        },
        "6359bb91e7e04fba9250840f298d4303": {
          "model_module": "@jupyter-widgets/controls",
          "model_name": "DropdownModel",
          "state": {
            "_options_labels": [
              "0.1",
              "0.2",
              "0.30000000000000004",
              "0.4",
              "0.5",
              "0.6",
              "0.7000000000000001",
              "0.8",
              "0.9"
            ],
            "_view_name": "DropdownView",
            "style": "IPY_MODEL_59001c8611a4417abf96653422bfae18",
            "_dom_classes": [],
            "description": "p_A",
            "_model_name": "DropdownModel",
            "index": 0,
            "_view_module": "@jupyter-widgets/controls",
            "_model_module_version": "1.5.0",
            "_view_count": null,
            "disabled": false,
            "_view_module_version": "1.5.0",
            "description_tooltip": null,
            "_model_module": "@jupyter-widgets/controls",
            "layout": "IPY_MODEL_c75ab3d64577470f8877a9fb064bcc7c"
          }
        },
        "878062348b8f479d89c545b20586cce4": {
          "model_module": "@jupyter-widgets/controls",
          "model_name": "DropdownModel",
          "state": {
            "_options_labels": [
              "0.1",
              "0.2",
              "0.30000000000000004",
              "0.4",
              "0.5",
              "0.6",
              "0.7000000000000001",
              "0.8",
              "0.9"
            ],
            "_view_name": "DropdownView",
            "style": "IPY_MODEL_690f34e4cea34712b59fa428faa9bf5b",
            "_dom_classes": [],
            "description": "p_B",
            "_model_name": "DropdownModel",
            "index": 4,
            "_view_module": "@jupyter-widgets/controls",
            "_model_module_version": "1.5.0",
            "_view_count": null,
            "disabled": false,
            "_view_module_version": "1.5.0",
            "description_tooltip": null,
            "_model_module": "@jupyter-widgets/controls",
            "layout": "IPY_MODEL_52cd4add30064d73a99ec40fe8edb391"
          }
        },
        "0f54b7dc64704f80afbc6e2bc4004284": {
          "model_module": "@jupyter-widgets/output",
          "model_name": "OutputModel",
          "state": {
            "_view_name": "OutputView",
            "msg_id": "",
            "_dom_classes": [],
            "_model_name": "OutputModel",
            "outputs": [
              {
                "output_type": "display_data",
                "metadata": {
                  "tags": []
                },
                "image/png": "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\n",
                "text/plain": "<Figure size 432x288 with 1 Axes>"
              }
            ],
            "_view_module": "@jupyter-widgets/output",
            "_model_module_version": "1.0.0",
            "_view_count": null,
            "_view_module_version": "1.0.0",
            "layout": "IPY_MODEL_f9f8e74008de4d0998f1a41a580644ce",
            "_model_module": "@jupyter-widgets/output"
          }
        },
        "042ba67ee1564870a4559f49a3a01e69": {
          "model_module": "@jupyter-widgets/controls",
          "model_name": "DescriptionStyleModel",
          "state": {
            "_view_name": "StyleView",
            "_model_name": "DescriptionStyleModel",
            "description_width": "",
            "_view_module": "@jupyter-widgets/base",
            "_model_module_version": "1.5.0",
            "_view_count": null,
            "_view_module_version": "1.2.0",
            "_model_module": "@jupyter-widgets/controls"
          }
        },
        "c4c31415ddcd45fa95c73318bca72246": {
          "model_module": "@jupyter-widgets/base",
          "model_name": "LayoutModel",
          "state": {
            "_view_name": "LayoutView",
            "grid_template_rows": null,
            "right": null,
            "justify_content": null,
            "_view_module": "@jupyter-widgets/base",
            "overflow": null,
            "_model_module_version": "1.2.0",
            "_view_count": null,
            "flex_flow": null,
            "width": null,
            "min_width": null,
            "border": null,
            "align_items": null,
            "bottom": null,
            "_model_module": "@jupyter-widgets/base",
            "top": null,
            "grid_column": null,
            "overflow_y": null,
            "overflow_x": null,
            "grid_auto_flow": null,
            "grid_area": null,
            "grid_template_columns": null,
            "flex": null,
            "_model_name": "LayoutModel",
            "justify_items": null,
            "grid_row": null,
            "max_height": null,
            "align_content": null,
            "visibility": null,
            "align_self": null,
            "height": null,
            "min_height": null,
            "padding": null,
            "grid_auto_rows": null,
            "grid_gap": null,
            "max_width": null,
            "order": null,
            "_view_module_version": "1.2.0",
            "grid_template_areas": null,
            "object_position": null,
            "object_fit": null,
            "grid_auto_columns": null,
            "margin": null,
            "display": null,
            "left": null
          }
        },
        "8552d59645e2448aa8f7581b9a6ded0d": {
          "model_module": "@jupyter-widgets/controls",
          "model_name": "DescriptionStyleModel",
          "state": {
            "_view_name": "StyleView",
            "_model_name": "DescriptionStyleModel",
            "description_width": "",
            "_view_module": "@jupyter-widgets/base",
            "_model_module_version": "1.5.0",
            "_view_count": null,
            "_view_module_version": "1.2.0",
            "_model_module": "@jupyter-widgets/controls"
          }
        },
        "d9453c2630a14c11b18bec32b7012190": {
          "model_module": "@jupyter-widgets/base",
          "model_name": "LayoutModel",
          "state": {
            "_view_name": "LayoutView",
            "grid_template_rows": null,
            "right": null,
            "justify_content": null,
            "_view_module": "@jupyter-widgets/base",
            "overflow": null,
            "_model_module_version": "1.2.0",
            "_view_count": null,
            "flex_flow": null,
            "width": null,
            "min_width": null,
            "border": null,
            "align_items": null,
            "bottom": null,
            "_model_module": "@jupyter-widgets/base",
            "top": null,
            "grid_column": null,
            "overflow_y": null,
            "overflow_x": null,
            "grid_auto_flow": null,
            "grid_area": null,
            "grid_template_columns": null,
            "flex": null,
            "_model_name": "LayoutModel",
            "justify_items": null,
            "grid_row": null,
            "max_height": null,
            "align_content": null,
            "visibility": null,
            "align_self": null,
            "height": null,
            "min_height": null,
            "padding": null,
            "grid_auto_rows": null,
            "grid_gap": null,
            "max_width": null,
            "order": null,
            "_view_module_version": "1.2.0",
            "grid_template_areas": null,
            "object_position": null,
            "object_fit": null,
            "grid_auto_columns": null,
            "margin": null,
            "display": null,
            "left": null
          }
        },
        "59001c8611a4417abf96653422bfae18": {
          "model_module": "@jupyter-widgets/controls",
          "model_name": "DescriptionStyleModel",
          "state": {
            "_view_name": "StyleView",
            "_model_name": "DescriptionStyleModel",
            "description_width": "",
            "_view_module": "@jupyter-widgets/base",
            "_model_module_version": "1.5.0",
            "_view_count": null,
            "_view_module_version": "1.2.0",
            "_model_module": "@jupyter-widgets/controls"
          }
        },
        "c75ab3d64577470f8877a9fb064bcc7c": {
          "model_module": "@jupyter-widgets/base",
          "model_name": "LayoutModel",
          "state": {
            "_view_name": "LayoutView",
            "grid_template_rows": null,
            "right": null,
            "justify_content": null,
            "_view_module": "@jupyter-widgets/base",
            "overflow": null,
            "_model_module_version": "1.2.0",
            "_view_count": null,
            "flex_flow": null,
            "width": null,
            "min_width": null,
            "border": null,
            "align_items": null,
            "bottom": null,
            "_model_module": "@jupyter-widgets/base",
            "top": null,
            "grid_column": null,
            "overflow_y": null,
            "overflow_x": null,
            "grid_auto_flow": null,
            "grid_area": null,
            "grid_template_columns": null,
            "flex": null,
            "_model_name": "LayoutModel",
            "justify_items": null,
            "grid_row": null,
            "max_height": null,
            "align_content": null,
            "visibility": null,
            "align_self": null,
            "height": null,
            "min_height": null,
            "padding": null,
            "grid_auto_rows": null,
            "grid_gap": null,
            "max_width": null,
            "order": null,
            "_view_module_version": "1.2.0",
            "grid_template_areas": null,
            "object_position": null,
            "object_fit": null,
            "grid_auto_columns": null,
            "margin": null,
            "display": null,
            "left": null
          }
        },
        "690f34e4cea34712b59fa428faa9bf5b": {
          "model_module": "@jupyter-widgets/controls",
          "model_name": "DescriptionStyleModel",
          "state": {
            "_view_name": "StyleView",
            "_model_name": "DescriptionStyleModel",
            "description_width": "",
            "_view_module": "@jupyter-widgets/base",
            "_model_module_version": "1.5.0",
            "_view_count": null,
            "_view_module_version": "1.2.0",
            "_model_module": "@jupyter-widgets/controls"
          }
        },
        "52cd4add30064d73a99ec40fe8edb391": {
          "model_module": "@jupyter-widgets/base",
          "model_name": "LayoutModel",
          "state": {
            "_view_name": "LayoutView",
            "grid_template_rows": null,
            "right": null,
            "justify_content": null,
            "_view_module": "@jupyter-widgets/base",
            "overflow": null,
            "_model_module_version": "1.2.0",
            "_view_count": null,
            "flex_flow": null,
            "width": null,
            "min_width": null,
            "border": null,
            "align_items": null,
            "bottom": null,
            "_model_module": "@jupyter-widgets/base",
            "top": null,
            "grid_column": null,
            "overflow_y": null,
            "overflow_x": null,
            "grid_auto_flow": null,
            "grid_area": null,
            "grid_template_columns": null,
            "flex": null,
            "_model_name": "LayoutModel",
            "justify_items": null,
            "grid_row": null,
            "max_height": null,
            "align_content": null,
            "visibility": null,
            "align_self": null,
            "height": null,
            "min_height": null,
            "padding": null,
            "grid_auto_rows": null,
            "grid_gap": null,
            "max_width": null,
            "order": null,
            "_view_module_version": "1.2.0",
            "grid_template_areas": null,
            "object_position": null,
            "object_fit": null,
            "grid_auto_columns": null,
            "margin": null,
            "display": null,
            "left": null
          }
        },
        "f9f8e74008de4d0998f1a41a580644ce": {
          "model_module": "@jupyter-widgets/base",
          "model_name": "LayoutModel",
          "state": {
            "_view_name": "LayoutView",
            "grid_template_rows": null,
            "right": null,
            "justify_content": null,
            "_view_module": "@jupyter-widgets/base",
            "overflow": null,
            "_model_module_version": "1.2.0",
            "_view_count": null,
            "flex_flow": null,
            "width": null,
            "min_width": null,
            "border": null,
            "align_items": null,
            "bottom": null,
            "_model_module": "@jupyter-widgets/base",
            "top": null,
            "grid_column": null,
            "overflow_y": null,
            "overflow_x": null,
            "grid_auto_flow": null,
            "grid_area": null,
            "grid_template_columns": null,
            "flex": null,
            "_model_name": "LayoutModel",
            "justify_items": null,
            "grid_row": null,
            "max_height": null,
            "align_content": null,
            "visibility": null,
            "align_self": null,
            "height": null,
            "min_height": null,
            "padding": null,
            "grid_auto_rows": null,
            "grid_gap": null,
            "max_width": null,
            "order": null,
            "_view_module_version": "1.2.0",
            "grid_template_areas": null,
            "object_position": null,
            "object_fit": null,
            "grid_auto_columns": null,
            "margin": null,
            "display": null,
            "left": null
          }
        }
      }
    }
  },
  "cells": [
    {
      "cell_type": "markdown",
      "metadata": {
        "id": "view-in-github",
        "colab_type": "text"
      },
      "source": [
        "<a href=\"https://colab.research.google.com/github/ramonVDAKKER/tutorial-AB-testing/blob/main/AB_testing_explained.ipynb\" target=\"_parent\"><img src=\"https://colab.research.google.com/assets/colab-badge.svg\" alt=\"Open In Colab\"/></a>"
      ]
    },
    {
      "cell_type": "markdown",
      "metadata": {
        "id": "0zZJbOiJ6bQf"
      },
      "source": [
        "# Inside the black box of A/B testing"
      ]
    },
    {
      "cell_type": "markdown",
      "metadata": {
        "id": "eMSSMY879Pi0"
      },
      "source": [
        "A/B testing basically compares two versions of an object in order to determine which one is best. The standard example is to develop two versions of a webpage and to direct part of the users to site A and another part to site B. In that setting, a typical goal is to determine which option yields the best conversion.\n",
        "\n",
        "This notebook **aims to explain the statistical aspects of A/B testing**. The **distribution** of the test statistic under the **null** as well as under the **alternative hypothesis** will be discussed. As such, the **power** of the test is determined. Moreover, given specification of a test, including the required power, we will determine **how much observations are needed** to conduct a A/B test that meets the requirements. This will **explain the mechanics underlying the black box A/B sample size calculators**. Throughout, we will use **Monte Carlo simulations to illustrate the theoretical results**.\n",
        "\n",
        "*Prerequisites*: familiarity with basic probability theory and statistics inculding the Central Limit Theorem and hypothesis testing."
      ]
    },
    {
      "cell_type": "markdown",
      "metadata": {
        "id": "tE3qNMqPBMe7"
      },
      "source": [
        "## 1.1 Setup and notation\n",
        "\n",
        "Assume that there are two populations: population A and population B. From population A we receive a sample $X_1,\\dots,X_{n_A}$ of independent and identically distributed (i.i.d.) binary observations $X_1,\\dots,X_{n_A}$. We denote $p_A = \\mathbb{P}(X_i=1)=1-\\mathbb{P}(X_i=0)$.\n",
        "Similary, we assume that we receive i.i.d. observations $Y_1,\\dots,Y_{n_B}$ from population B and denote $p_B = \\mathbb{P}(Y_i=1)$. Moreover, it is assumed that the '$X$-sample' is independent of the '$Y$-sample'.\n",
        "\n",
        "We are interested in testing the null hypothesis $\\mathrm{H}_0:\\, p_A=p_B$ versus the alternative $\\mathrm{H}_a:\\, p_B > p_A$. Thinking of $p_A$ and $p_B$ as conversion rates for two competing features on, for example, a website, we thus want to test if option B is the better one.\n",
        "\n",
        "As usual, the idea behind constructing a test is to find an object that is 'close to 0' if the null hypothesis is true, and which deviates from 0 in case the alternative is true. So, for the above setup, it is natural to base a test statistic upon $\\hat{p}_B - \\hat{p}_A$. Next, one often standardizes the statistics in order to obtain a $N(0,1)$ distribution, by approximation, under the null hypothesis. This leads to the test statistic:\n",
        "$$t = \\frac{\\hat{p}_B - \\hat{p}_A}{\\sqrt{  \\hat{p}_B(1-\\hat{p}_B) /n_B + \\hat{p}_A(1-\\hat{p}_A)/n_A}},$$\n",
        "where $\\hat{p}_A = \\bar{X}_{n_A} = n^{-1} \\sum_{i=1}^{n_A} X_i$, i.e. the fraction of $X$-observations with $X_i=1$, and with $\\hat{p}_B$ defined in a similar fashion. Please note that this is actually the two-sample t-test (with unequal variances) tailored for binary observations. \n",
        "\n",
        "The central limit theorem (and calculus rules for convergence in distribution) (indeed) imply that we have,\n",
        "for large values of $n_A$ and $n_B$ and under the null hypothesis $H_0$, $t\\stackrel{d}{\\approx} N(0,1)$. This leads to rejecting $H_0$ if and only if $t> \\Phi^{-1}(1-\\alpha)$, where $\\alpha$ denotes the significance level. For $\\alpha=5\\%$ we have $\\Phi^{-1}(1-\\alpha)\\approx 1.65$."
      ]
    },
    {
      "cell_type": "markdown",
      "metadata": {
        "id": "9RdVST-U6bQg"
      },
      "source": [
        "# 1.2. Imports"
      ]
    },
    {
      "cell_type": "code",
      "metadata": {
        "id": "PwliwHlq6bQh"
      },
      "source": [
        "import numpy as np\n",
        "from scipy.stats import bernoulli, norm, binom\n",
        "import matplotlib.pyplot as plt\n",
        "import seaborn as sns\n",
        "from scipy import stats\n",
        "import math\n",
        "from ipywidgets import widgets, fixed"
      ],
      "execution_count": null,
      "outputs": []
    },
    {
      "cell_type": "markdown",
      "metadata": {
        "id": "4HUjWkKf6bQi"
      },
      "source": [
        "## 1.3 Implementation of the test statistic\n"
      ]
    },
    {
      "cell_type": "markdown",
      "metadata": {
        "id": "6puasPkVE2ha"
      },
      "source": [
        "Specify the significance level $\\alpha$ and the number of replications to be used in the Monte Carlo experiments (more is better, but slower)."
      ]
    },
    {
      "cell_type": "code",
      "metadata": {
        "id": "i2MywqeR6bQj"
      },
      "source": [
        "alpha = 0.05  # significance level\n",
        "num_replications = 25000  # no. of Monte Carlo replications to be used"
      ],
      "execution_count": null,
      "outputs": []
    },
    {
      "cell_type": "markdown",
      "metadata": {
        "id": "3c0dQmHN6bQj"
      },
      "source": [
        "The following function implements the test statistic where we also allow for the boundary case in which $\\hat{p}_A(1-\\hat{p}_A)=\n",
        "\\hat{p}_B(1-\\hat{p}_B)=0$."
      ]
    },
    {
      "cell_type": "code",
      "metadata": {
        "id": "naORzGZ46bQk"
      },
      "source": [
        "def t_test(num_heads_A: int, n_A: int, num_heads_B: int, n_B: int, alpha:\n",
        "           float = .05) -> (float, bool):\n",
        "    \"\"\"\"On basis of the number of heads in X_1,...,X_{n_A} and Y_1,...,Y_{n_B}\n",
        "    and the significance level alpa, this function determines the realization\n",
        "    of the t-test (t) and the outcome (phi) of the test.\"\"\"\n",
        "    hat_p_A = num_heads_A / n_A\n",
        "    hat_p_B = num_heads_B / n_B\n",
        "    if max(hat_p_A, hat_p_B) < 1 and min(hat_p_A, hat_p_B) > 0:\n",
        "        t = (hat_p_B - hat_p_A) / np.sqrt(hat_p_A * (1 - hat_p_A) / n_A\n",
        "                                          + hat_p_B * (1 - hat_p_B) / n_B)\n",
        "    elif ((hat_p_A == 0) and (hat_p_B == 0)) or ((hat_p_A == 1) and\n",
        "                                                 (hat_p_B == 1)):\n",
        "        t = 0\n",
        "    elif hat_p_B == 1 and hat_p_A == 0:\n",
        "        t = np.inf\n",
        "    elif hat_p_A == 1 and hat_p_B == 0:\n",
        "        t = - np.inf\n",
        "    else:\n",
        "        t = 0\n",
        "    phi = (t >= norm.ppf(1 - alpha))\n",
        "    return t, phi"
      ],
      "execution_count": null,
      "outputs": []
    },
    {
      "cell_type": "markdown",
      "metadata": {
        "id": "gNulK-tJEhOm"
      },
      "source": [
        "Example:\n"
      ]
    },
    {
      "cell_type": "code",
      "metadata": {
        "id": "P7wLAKrh6bQl",
        "colab": {
          "base_uri": "https://localhost:8080/"
        },
        "outputId": "dcc05801-9721-49c8-a53a-e2ca140e307f"
      },
      "source": [
        "t_test(10, 50, 30, 40, alpha)"
      ],
      "execution_count": null,
      "outputs": [
        {
          "output_type": "execute_result",
          "data": {
            "text/plain": [
              "(6.192884828895332, True)"
            ]
          },
          "metadata": {
            "tags": []
          },
          "execution_count": 4
        }
      ]
    },
    {
      "cell_type": "markdown",
      "metadata": {
        "id": "zp1Mb1Jh6bQo"
      },
      "source": [
        "The following function can be used to simulate datasets and the corresponding realizations of the test statistics. This will be used for the Monte Carlo illustrations."
      ]
    },
    {
      "cell_type": "code",
      "metadata": {
        "id": "WbhGizgh6bQo"
      },
      "source": [
        "def simulate_distribution(p_A: float, n_A: int, p_B: float, n_B: int, alpha:\n",
        "                          float, num_replications: int):\n",
        "    \"\"\"This function simulaties \\sum_{i=1}^{n_A} X_i and \\sum_{i=1}^{n_B} Y_i\n",
        "    using i.i.d. draws from a Bernoulli(p_A) and Bernoulli(p_B) distribution\n",
        "    respectively and calculates the outcome of the test. This process is\n",
        "    repeated num_replications times and alpha is used as significance level.\"\"\"\n",
        "    no_heads_A = binom.rvs(n_A, p_A, loc=0, size=num_replications)\n",
        "    no_heads_B = binom.rvs(n_B, p_B, loc=0, size=num_replications)\n",
        "    vectorized_t_test = np.vectorize(t_test)\n",
        "    t, phi = vectorized_t_test(no_heads_A, n_A, no_heads_B, n_B, alpha)\n",
        "    return t, phi"
      ],
      "execution_count": null,
      "outputs": []
    },
    {
      "cell_type": "markdown",
      "metadata": {
        "id": "O3aJ5HgbFr5M"
      },
      "source": [
        "Example:"
      ]
    },
    {
      "cell_type": "code",
      "metadata": {
        "id": "Qxv45et_6bQp",
        "colab": {
          "base_uri": "https://localhost:8080/"
        },
        "outputId": "fa0ff72a-d1b9-488b-c354-cbebb79a87c1"
      },
      "source": [
        "simulate_distribution(.2, 50, .3, 40, alpha, 10)"
      ],
      "execution_count": null,
      "outputs": [
        {
          "output_type": "execute_result",
          "data": {
            "text/plain": [
              "(array([ 2.32553072,  1.92453605, -1.08857252,  0.59951513,  1.36131252,\n",
              "        -2.27103349,  1.31290387, -0.38287301,  2.32521247,  2.32521247]),\n",
              " array([ True,  True, False, False, False, False, False, False,  True,\n",
              "         True]))"
            ]
          },
          "metadata": {
            "tags": []
          },
          "execution_count": 6
        }
      ]
    },
    {
      "cell_type": "markdown",
      "metadata": {
        "id": "ipD2CGgxF5z-"
      },
      "source": [
        "## 1.4 Distribution of the test statistic under the null hypothesis"
      ]
    },
    {
      "cell_type": "markdown",
      "metadata": {
        "id": "k9k8t15wGDtC"
      },
      "source": [
        "As indicated in Section 1.1, the test statistic $t$ is approximately $N(0,1)$ distributed for large $n_A$ and large $n_B$. Our choice for the critical value, i.e. $\\Phi^{-1}(1-\\alpha)$ is based upon this approximation.\n",
        "\n",
        "In this section we will assess the quality of the approximation. To this end, we introduce the following function that performs a Monte Carlo experiment.\n",
        "\n",
        "*Remark*: as we are dealing with binary data, we could also derive the exact distribitution. We do not pursue this over here, as we want to provide a setup that easily extends to situations in which the exact distribution is unknown and one cannot (easily) avoid relying on the approximating $N(0,1)$ distribution."
      ]
    },
    {
      "cell_type": "code",
      "metadata": {
        "id": "4Zd1dMIE6bQr"
      },
      "source": [
        "def null_distribution(n_A: int, n_B: int, p_A: float, alpha: float,\n",
        "                      num_replications: int):\n",
        "    \"\"\"This function determines an approximation to the exact finite-sample\n",
        "    distribution by means of Monte Carlo simulations and provides a comparison\n",
        "    to the limiting N(0,1) distribution.\"\"\"\n",
        "    p_B = p_A  # as they are equal under the null hypothesis\n",
        "    t, phi = simulate_distribution(p_A, n_A, p_B, n_B, alpha, num_replications)\n",
        "    fig, ax = plt.subplots(1, 1)\n",
        "    ax.set_title(f\"Distribution of $t$, on basis of {num_replications:,} \"\n",
        "                 + f\"Monte Carlo replications,\\n n_A={n_A}, n_B={n_B} and \"\n",
        "                 + f\"$p_A=p_B=${p_A:.2f} \"\n",
        "                 + \"versus the N(0, 1) distribution.\")\n",
        "    ax.set_ylim([0, .6])\n",
        "    ax.set_xlim([-4, 4])\n",
        "    x = np.linspace(-4, 4, 100)\n",
        "    y = stats.norm.pdf(x)\n",
        "    ax.plot(x, y, \"r\", lw=2)\n",
        "    sns.set_theme()\n",
        "    sns.histplot(t, stat=\"density\")\n",
        "    print(f\"The rejection probability is {np.mean(phi):.2f}. If the \"\n",
        "          + \"approximation\\nby the N(0,1) would be perfect and we would have no\"\n",
        "          + \" noise\\ndue to using Monte Carlo to approximate the finite-sample\"\n",
        "          + f\"\\ndistribution this probability would be equal to {alpha}.\")"
      ],
      "execution_count": null,
      "outputs": []
    },
    {
      "cell_type": "markdown",
      "metadata": {
        "id": "reQk9JrMTQPY"
      },
      "source": [
        "The following widget can be used to analyze the impact of the sample sizes $n_A$ and $n_B$ and the probabilities $p_A=p_B$ on the quality of the approximation by the standard normal distribution.\n",
        "\n"
      ]
    },
    {
      "cell_type": "code",
      "metadata": {
        "id": "VnTSUb-p6bQr",
        "colab": {
          "base_uri": "https://localhost:8080/",
          "height": 485,
          "referenced_widgets": [
            "a3cb0d5265054dbe996f5bf7b80246b9",
            "efadc88e42bb4fbeb8dea44a960ea577",
            "2109f5aacc1b46ffa8a53cd79c90fa6a",
            "5e4e7d4987374b89bbac504d456b819a",
            "aa48e1d5da0d490f825099d0d3b73889",
            "5c196f9502e841f0bb1e70b48d9a9637",
            "6807d0e492194b8fb8568ace34dec308",
            "9f3373c25a4f4c18b25f9b077f27030a",
            "7b5149c6574e4b1b9c44dd823b0cac37",
            "6200d4e477a34cb597266242a2c515cc",
            "ca31a0a556b3426091512a108f203ef3",
            "4fa26ba8ffa14ec8afee772351b777ed",
            "641a3e834cd84fd480329424ef0b066a"
          ]
        },
        "outputId": "6076b819-1583-4405-ecce-a109fa520abf"
      },
      "source": [
        " config_num_obs = [50, 100, 1000, 10000]\n",
        " config_null_prob = np.linspace(0.1, 0.9, 9)\n",
        " widgets.interact(null_distribution, n_A=config_num_obs, n_B=config_num_obs,\n",
        "                  p_A=config_null_prob, alpha=fixed(alpha),\n",
        "                  num_replications=fixed(num_replications))"
      ],
      "execution_count": null,
      "outputs": [
        {
          "output_type": "display_data",
          "data": {
            "application/vnd.jupyter.widget-view+json": {
              "model_id": "a3cb0d5265054dbe996f5bf7b80246b9",
              "version_minor": 0,
              "version_major": 2
            },
            "text/plain": [
              "interactive(children=(Dropdown(description='n_A', options=(50, 100, 1000, 10000), value=50), Dropdown(descript…"
            ]
          },
          "metadata": {
            "tags": []
          }
        },
        {
          "output_type": "execute_result",
          "data": {
            "text/plain": [
              "<function __main__.null_distribution>"
            ]
          },
          "metadata": {
            "tags": []
          },
          "execution_count": 8
        }
      ]
    },
    {
      "cell_type": "markdown",
      "metadata": {
        "id": "posBTaA66bQs"
      },
      "source": [
        "## 2. Distribution under the alternative and power of the test"
      ]
    },
    {
      "cell_type": "markdown",
      "metadata": {
        "id": "ZKtV1jukVGAO"
      },
      "source": [
        "Recall that the power of a test is defined as the probability that it rejects the null hypothesis.\n",
        "So under the null hypothesis the power should be close to $\\alpha$ (by construction, see Section 1.4) and under the alternative\n",
        "hypothesis we would like to have a power that is close to 1. \n",
        "\n",
        "In this section we derive a formula for the power of $t$. To facilitate this discussion we assume that $n_A =\\operatorname{round} (\\lambda n) $ and\n",
        "$n_B = n- n_A$ where $\\lambda \\in (0,1)$. In words: $n$ is the total number of observations we can collect\n",
        "and $\\lambda$ is the fraction of observations that comes from population A.\n",
        "\n",
        "In the previous section we already derived the distribution of $t$ under the null hypothesis. Now we focus on the distribution under the alternative hypothesis.\n",
        "If $p_B > p_A$, the Central Limit Theorem (though a non-standard one) and related calculus rules imply that, for large \n",
        "$n$,\n",
        "\\begin{align*}\n",
        "t &= \n",
        " \\frac{\\hat{p}_B - p_B  - (\\hat{p}_A - p_A)}{\\sqrt{  \\hat{p}_B(1-\\hat{p}_B) /n_B + \\hat{p}_A(1-\\hat{p}_A)/n_A}}\n",
        "+ \\frac{p_B - p_A  }{\\sqrt{  \\hat{p}_B(1-\\hat{p}_B) /n_B + \\hat{p}_A(1-\\hat{p}_A)/n_A}} \\\\\n",
        "&\\stackrel{d}{\\approx} \n",
        "N(0, 1) + \n",
        "\\frac{p_B - p_A  }{\\sqrt{ \\frac{  p_B(1-p_B) }{ (1-\\lambda) n}  + \\frac{ p_A(1-p_A)}{  \\lambda n}}}.\n",
        "\\end{align*}\n",
        "Observe that under the alternative hypothesis, i.e. $p_B>p_A$, the second term in the previous display yields a shift to the right which leads to a higher rejection probability. Moreover, if $n$ increases\n",
        "this term tends to $\\infty$ which would mean that the test would (indeed) make the correct decision.\n",
        "These observations can also be seen from the power function:\n",
        "\n",
        "$$\n",
        "\\text{power}=\\mathbb{P}(\\text{reject } H_0) \n",
        "= \\mathbb{P} (  t > \\Phi^{-1}(1-\\alpha) )  \n",
        "\\approx \n",
        "1 - \\Phi\\left(\n",
        "\\Phi^{-1}(1-\\alpha) - \n",
        "\\frac{p_B - p_A  }{\\sqrt{ \\frac{  p_B(1-p_B) }{ (1-\\lambda) n}  + \\frac{ p_A(1-p_A)}{  \\lambda n}}}\n",
        "\\right).\n",
        "$$"
      ]
    },
    {
      "cell_type": "markdown",
      "metadata": {
        "id": "BPSFHFmxWVws"
      },
      "source": [
        "The following widget can be used to illustrate how the distribitution of $t$ and the approximation by the shifted normal distribution look like under the alternative. Moreover, the power (on basis of Monte Carlo replications as well as on basis of the normal approximation) is computed."
      ]
    },
    {
      "cell_type": "code",
      "metadata": {
        "id": "C7S9r_am6bQu"
      },
      "source": [
        "def MC_power(n: int, fraction_A: float, p_A: float, p_B: float, alpha: float,\n",
        "             num_replications: int):\n",
        "    \"\"\"\"This functions illustrates the power, using Monte Carlo simulations,\n",
        "    and presents the distribution of the test statistic as well as its\n",
        "    asymptotic approximation.\"\"\"\n",
        "    n_A = np.int(fraction_A * n)\n",
        "    n_B = n - n_A\n",
        "    t, phi = simulate_distribution(p_A, n_A, p_B, n_B, alpha, num_replications)\n",
        "    fig, ax = plt.subplots(1, 1)\n",
        "    ax.set_title(f\"Distribution of $t$, on basis of {num_replications:,} \"\n",
        "                 + f\"Monte Carlo replications, p_A={p_A:.2f},\\n p_B={p_B:.2f},\"\n",
        "                 + f\" n={n}, and lambda={fraction_A}, its normal approximation \"\n",
        "                 + \"(blue)\\nand the (approximating) distribution under the \"\n",
        "                 + \"null (in red).\")\n",
        "    ax.set_ylim([0, .6])\n",
        "    x = np.linspace(-4, 8, 100)\n",
        "    y = stats.norm.pdf(x)\n",
        "    ax.plot(x, y, \"r\", lw=2)  # approximating distribution under null\n",
        "    sns.histplot(t, stat=\"density\")\n",
        "    h = np.sqrt(n) * (p_B - p_A)  # parameter for local asymptotics\n",
        "    mean_local_alternative = h / np.sqrt(p_A * (1 - p_A) / fraction_A\n",
        "                                         + p_B * (1 - p_B) / (1 - fraction_A))\n",
        "    x = np.linspace(-4, 4 + mean_local_alternative, 100)\n",
        "    y = stats.norm.pdf(x, loc=mean_local_alternative, scale=1)\n",
        "    ax.plot(x, y, \"b\", lw=2)\n",
        "    plt.fill_between(x[x > norm.ppf(1 - alpha)],\n",
        "                     norm.pdf(x[x > norm.ppf(1 - alpha)],\n",
        "                              loc=mean_local_alternative))\n",
        "    p = 1 - norm.cdf(norm.ppf(1 - alpha), loc=mean_local_alternative, scale=1)\n",
        "\n",
        "\n",
        "def MC_power_aux(n: int, fraction_A, p_A, p_B):\n",
        "    return MC_power(n, fraction_A, p_A, p_B, alpha, num_replications)"
      ],
      "execution_count": null,
      "outputs": []
    },
    {
      "cell_type": "code",
      "metadata": {
        "id": "vSghf-x36bQz",
        "colab": {
          "base_uri": "https://localhost:8080/",
          "height": 463,
          "referenced_widgets": [
            "d9f759a4344f4132816a2c00b45b5419",
            "fca28876369c46ca893fcb891f0005dc",
            "f7ed03816cce4fb493c72667e91a4fc8",
            "c7e9a1595aed4455bab9fa5b1a080d7c",
            "6359bb91e7e04fba9250840f298d4303",
            "878062348b8f479d89c545b20586cce4",
            "0f54b7dc64704f80afbc6e2bc4004284",
            "042ba67ee1564870a4559f49a3a01e69",
            "c4c31415ddcd45fa95c73318bca72246",
            "8552d59645e2448aa8f7581b9a6ded0d",
            "d9453c2630a14c11b18bec32b7012190",
            "59001c8611a4417abf96653422bfae18",
            "c75ab3d64577470f8877a9fb064bcc7c",
            "690f34e4cea34712b59fa428faa9bf5b",
            "52cd4add30064d73a99ec40fe8edb391",
            "f9f8e74008de4d0998f1a41a580644ce"
          ]
        },
        "outputId": "48e80ac1-7a31-4ff0-dd90-81c426c2e462"
      },
      "source": [
        "config_num_obs = [200, 1000, 2000, 20000]\n",
        "config_lambda = np.linspace(.1, .9, 5)\n",
        "config_prob = np.linspace(0.1, 0.9, 9)\n",
        "widgets.interact(MC_power_aux, n=config_num_obs, fraction_A=config_lambda,\n",
        "                 p_A=config_prob, p_B=config_prob)"
      ],
      "execution_count": null,
      "outputs": [
        {
          "output_type": "display_data",
          "data": {
            "application/vnd.jupyter.widget-view+json": {
              "model_id": "d9f759a4344f4132816a2c00b45b5419",
              "version_minor": 0,
              "version_major": 2
            },
            "text/plain": [
              "interactive(children=(Dropdown(description='n', options=(200, 1000, 2000, 20000), value=200), Dropdown(descrip…"
            ]
          },
          "metadata": {
            "tags": []
          }
        },
        {
          "output_type": "execute_result",
          "data": {
            "text/plain": [
              "<function __main__.MC_power_aux>"
            ]
          },
          "metadata": {
            "tags": []
          },
          "execution_count": 11
        }
      ]
    },
    {
      "cell_type": "markdown",
      "metadata": {
        "id": "H7EFm6DHpt0g"
      },
      "source": [
        "In case you are only interested in the power you can use the following functions."
      ]
    },
    {
      "cell_type": "code",
      "metadata": {
        "id": "SdeeJ7Ut6bQ0"
      },
      "source": [
        "def power_on_basis_of_MC(n: int, fraction_A: float, p_A: float, p_B: float,\n",
        "                         alpha: float, num_replications: int):\n",
        "    \"This functions calculates the power, using Monte Carlo simulations\"\n",
        "    n_A = np.int(fraction_A * n)\n",
        "    n_B = n - n_A\n",
        "    _, phi = simulate_distribution(p_A, n_A, p_B, n_B, alpha, num_replications)\n",
        "    return np.mean(phi)\n",
        "\n",
        "\n",
        "def power_on_basis_of_aa(n: int, fraction_A: float, p_A: float, p_B: float,\n",
        "                         alpha: float):\n",
        "    \"This functions calculates the power, using the asymptotic approximation\"\n",
        "    n_A = np.int(fraction_A * n)\n",
        "    n_B = n - n_A\n",
        "    h = np.sqrt(n) * (p_B - p_A)  # parameter for local asymptotics\n",
        "    mean_local_alternative = h / np.sqrt(p_A * (1 - p_A) / fraction_A\n",
        "                                         + p_B * (1 - p_B) / (1 - fraction_A))\n",
        "    p = 1 - norm.cdf(norm.ppf(1 - alpha), loc=mean_local_alternative, scale=1)\n",
        "    return p"
      ],
      "execution_count": null,
      "outputs": []
    },
    {
      "cell_type": "markdown",
      "metadata": {
        "id": "zS8hI9zDqNsf"
      },
      "source": [
        "Example:"
      ]
    },
    {
      "cell_type": "code",
      "metadata": {
        "id": "QRLgi-HH6bQ0",
        "colab": {
          "base_uri": "https://localhost:8080/"
        },
        "outputId": "fc4e10e8-c8bc-4429-cc2f-d7f7e9aeb523"
      },
      "source": [
        "n = 1000\n",
        "fraction_A = .5\n",
        "p_A = .2\n",
        "p_B = .23\n",
        "p = power_on_basis_of_MC(n, fraction_A, p_A, p_B, alpha, num_replications)\n",
        "print(f\"The power on basis of MC simulations is {p:.3f}.\")\n",
        "p = power_on_basis_of_aa(n, fraction_A, p_A, p_B, alpha)\n",
        "print(f\"The power on basis of asymptotic approximation is {p:.3f}.\")"
      ],
      "execution_count": null,
      "outputs": [
        {
          "output_type": "stream",
          "text": [
            "The power on basis of MC simulations is 0.314.\n",
            "The power on basis of asymptotic approximation is 0.312.\n"
          ],
          "name": "stdout"
        }
      ]
    },
    {
      "cell_type": "markdown",
      "metadata": {
        "id": "LhVb8YZ26bQ1"
      },
      "source": [
        "## 3. Determine the required sample size"
      ]
    },
    {
      "cell_type": "markdown",
      "metadata": {
        "id": "l2J_H24ksiHl"
      },
      "source": [
        "When you set up an A/B test yourself, you obviously would like to know how large $n$ should be in order to make an informed decision. In this section we derive a formula for $n$.\n",
        "\n",
        "To this end you need to specify (perceived) values for $p_A$ and $p_B$. For example, $p_A=20\\%$ and $p_B=23\\%$.\n",
        "If A represents the current situation then you typically indeed have an idea about $p_A$. The value for $p_B$ that you would like to detect could, for example, come from a business case: B would be favorable to A if B has a conversion rate that is 3\\%-points higher.\n",
        "Moreover, you need to specify with what power you want to detect the alternative hypothesis in case it is true. If you would set this power equal to 80\\%, then the probability of not rejecting $H_0$ while in fact $p_B>p_A$ would be equal to 20%.\n",
        "\n",
        "Denoting the desired power by $\\theta$ we obtain \n",
        "$$\n",
        "\\Phi^{-1}(1- \\theta) = \\Phi^{-1}(1-\\alpha) \n",
        "- \n",
        "\\frac{p_B - p_A  }{\\sqrt{ \\frac{  p_B(1-p_B) }{ (1-\\lambda)n }  + \\frac{ p_A(1-p_A)}{  \\lambda n }}},\n",
        "$$\n",
        "which yields\n",
        "$$\n",
        "n = \\operatorname{ceil}\\left[\n",
        "\\frac{\\left(\n",
        "\\Phi^{-1}(1-\\alpha) - \n",
        "\\Phi^{-1}(1-\\theta)\\right)^2}{(p_B - p_A)^2}  \n",
        "\\left( \\frac{  p_B(1-p_B) }{ (1-\\lambda) }  + \\frac{ p_A(1-p_A)}{  \\lambda }\\right)\n",
        "\\right].\n",
        "$$\n",
        "\n",
        "As an illustration we will apply \n",
        "this formula for the case $p_A=20\\%$, $p_B=23\\%$, $\\lambda=.5$, $\\alpha=.05$, and\n",
        "$\\theta=.8$, yielding $n=4632$. "
      ]
    },
    {
      "cell_type": "code",
      "metadata": {
        "id": "yg9-wzhJ6bQ_"
      },
      "source": [
        "def required_total_sample_size(fraction_A: float, p_A: float, p_B: float,\n",
        "                               desired_power: float, alpha:\n",
        "                               float = .05) -> int:\n",
        "    \"\"\"\"This functions determines the sample size n that one needs to achieve\n",
        "    desired_power as power. Note that p_B > p_A is required.\"\"\"\n",
        "    term_1 = norm.ppf(1 - alpha) - norm.ppf(1 - desired_power)\n",
        "    term_2 = np.sqrt(p_A * (1 - p_A) / fraction_A\n",
        "                     + p_B * (1 - p_B) / (1 - fraction_A)) / (p_B - p_A)\n",
        "    n = int(np.ceil(math.pow(term_1 * term_2, 2)))\n",
        "    print(f\"Consider a one-sided level alpha={alpha} test with \"\n",
        "          + f\"{100*fraction_A}% of the total no. of observations\\nbelonging to \"\n",
        "          + f\"group A. Then we need {n} observations to detect alternative \"\n",
        "          + f\"p_B={p_B}\\nagainst null p_A=p_B, with p_A={p_A}, with \"\n",
        "          + f\"power={desired_power}.\")\n",
        "    return n"
      ],
      "execution_count": null,
      "outputs": []
    },
    {
      "cell_type": "code",
      "metadata": {
        "id": "5khqRjD96bQ_",
        "colab": {
          "base_uri": "https://localhost:8080/"
        },
        "outputId": "b7d0fc9b-5108-4fe3-c67b-5efd359fe7f4"
      },
      "source": [
        "# Example:\n",
        "fraction_A = .5\n",
        "p_A = .2\n",
        "p_B = .23\n",
        "power_detecting_min_p_B = .80  # required powe to detect alternative p_B\n",
        "alpha = .05  # asymptotic size of test\n",
        "n_req = required_total_sample_size(fraction_A, p_A, p_B,\n",
        "                                   power_detecting_min_p_B, alpha)"
      ],
      "execution_count": null,
      "outputs": [
        {
          "output_type": "stream",
          "text": [
            "Consider a one-sided level alpha=0.05 test with 50.0% of the total no. of observations\n",
            "belonging to group A. Then we need 4632 observations to detect alternative p_B=0.23\n",
            "against null p_A=p_B, with p_A=0.2, with power=0.8.\n"
          ],
          "name": "stdout"
        }
      ]
    },
    {
      "cell_type": "markdown",
      "metadata": {
        "id": "86R88eLI6bRA"
      },
      "source": [
        "To corroborate this result we generate 100,000 Monte Carlo replications, using the specified parameters. On basis of the 100,000 realization of the test, we indeed observe approximately 80\\% as power."
      ]
    },
    {
      "cell_type": "code",
      "metadata": {
        "id": "odqTX9Cd6bRB",
        "colab": {
          "base_uri": "https://localhost:8080/",
          "height": 335
        },
        "outputId": "f93ed79c-e8d9-4d77-fd19-7f8f2d5103a3"
      },
      "source": [
        "p = power_on_basis_of_MC(n_req, fraction_A, p_A, p_B, alpha, 100000)\n",
        "print(f\"The power on basis of MC simulations is {p:.3f}.\")\n",
        "MC_power(n_req, fraction_A, p_A, p_B, alpha, 100000)"
      ],
      "execution_count": null,
      "outputs": [
        {
          "output_type": "stream",
          "text": [
            "The power on basis of MC simulations is 0.799.\n"
          ],
          "name": "stdout"
        },
        {
          "output_type": "display_data",
          "data": {
            "image/png": "[encoded data removed]",
            "text/plain": [
              "<Figure size 432x288 with 1 Axes>"
            ]
          },
          "metadata": {
            "tags": []
          }
        }
      ]
    },
    {
      "cell_type": "markdown",
      "metadata": {
        "id": "twc5NmLi6Oz2"
      },
      "source": [
        "## 4. Concluding remarks"
      ]
    },
    {
      "cell_type": "markdown",
      "metadata": {
        "id": "j_UQdQPj6RW9"
      },
      "source": [
        "* Please note that the formulas for the power and $n$ can also be used to determine the optimal choice for $\\lambda$ (relative to choices for $p_A$ and $p_B$).\n",
        "* As we have been discussing binary observations we could have used the binomial distribution in order to arrive at exact results. Our approach can, however, also be used for non-binary data. In that case you would obviously need to adapt the denominator of $t$ and the formulas for the power and $n$; these changes should be clear from our exposition. \n",
        "* Although the null distribution $t\\stackrel{d}{\\approx} N(0,1)$ can indeed be fully understood from `basic' statistical theory, the distribution under the alternative is more subtle. Here we need to use 'local asymptotics'. We refer the interested reader to Lehmann (1997) for the necessary tools.  "
      ]
    }
  ]
}